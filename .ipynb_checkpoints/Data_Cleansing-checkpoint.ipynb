{
 "cells": [
  {
   "cell_type": "code",
   "execution_count": 16,
   "id": "7b9bc17d",
   "metadata": {},
   "outputs": [],
   "source": [
    "import matplotlib.pyplot as plt\n",
    "import pandas as pd\n",
    "import json\n",
    "import os\n",
    "import scipy.signal as signal"
   ]
  },
  {
   "cell_type": "code",
   "execution_count": 7,
   "id": "a1d0ea07",
   "metadata": {},
   "outputs": [],
   "source": [
    "def load_waveform(filepath):\n",
    "    with open(filepath) as dataFile:\n",
    "        data = dataFile.read()\n",
    "        obj = data[data.find('{') : data.rfind('}')+1]\n",
    "        jsonObj = json.loads(obj)\n",
    "        \n",
    "        if jsonObj['data']:\n",
    "            waveform_data = pd.DataFrame(jsonObj['data'])    \n",
    "            return waveform_data\n",
    "    return []"
   ]
  },
  {
   "cell_type": "code",
   "execution_count": 8,
   "id": "df398ffa",
   "metadata": {},
   "outputs": [],
   "source": [
    "file_dir = os.getcwd() + \"/Assignment02/\"\n",
    "file_neg = os.listdir(file_dir + \"negative\")\n",
    "file_pos = os.listdir(file_dir + \"positive\")\n",
    "file_unclassified = os.listdir(file_dir + \"unclassified\")\n"
   ]
  },
  {
   "cell_type": "code",
   "execution_count": 7,
   "id": "74a16b8c",
   "metadata": {},
   "outputs": [],
   "source": [
    "def iterhdbscan(df):\n",
    "    count = 0\n",
    "    clusterer = hdbscan.HDBSCAN(gen_min_span_tree=True)\n",
    "    clusterer.fit(df)\n",
    "    for i in range(len(clusterer.probabilities_)):\n",
    "        if clusterer.probabilities_[i] == 0:\n",
    "            count +=1\n",
    "            df.drop(i, inplace=True)\n",
    "    return count"
   ]
  },
  {
   "cell_type": "code",
   "execution_count": 24,
   "id": "9cf64086",
   "metadata": {},
   "outputs": [],
   "source": [
    "def savgol_filter(df):\n",
    "    y_smooth = signal.savgol_filter(df[0], window_length=11, polyorder=3, mode=\"mirror\")\n",
    "    df[0] = y_smooth\n",
    "    return df\n"
   ]
  },
  {
   "cell_type": "markdown",
   "id": "5b1bb5c0",
   "metadata": {},
   "source": [
    "## Negative Data "
   ]
  },
  {
   "cell_type": "code",
   "execution_count": 29,
   "id": "89b0f0a7",
   "metadata": {},
   "outputs": [],
   "source": [
    "## Negative Data #Dropping of white noise found through the iteration of all the negative files\n",
    "count = 0\n",
    "total = 0 \n",
    "for i in range(len(file_neg)):\n",
    "    df_neg = load_waveform(file_dir + \"negative/\" + file_neg[i])\n",
    "    total += len(df_neg)\n",
    "    noise= savgol_filter(df_neg)\n",
    "    df_neg.to_csv(os.getcwd() + \"/Cleansed/negative/\" + file_neg[i][:-3] + \".csv\")"
   ]
  },
  {
   "cell_type": "code",
   "execution_count": 17,
   "id": "5b56b333",
   "metadata": {},
   "outputs": [
    {
     "name": "stdout",
     "output_type": "stream",
     "text": [
      "/Users/jurgentan/Desktop/School/Machine Learning/Assignment 2/Cleansed/negative/1029777.csv\n"
     ]
    }
   ],
   "source": [
    "# file_neg[i][:-3]\n",
    "print(os.getcwd() + \"/Cleansed/negative/\" + file_neg[i][:-3] + \".csv\")"
   ]
  },
  {
   "cell_type": "markdown",
   "id": "01963641",
   "metadata": {},
   "source": [
    "## Positive Data "
   ]
  },
  {
   "cell_type": "code",
   "execution_count": 30,
   "id": "1fab0693",
   "metadata": {},
   "outputs": [
    {
     "name": "stdout",
     "output_type": "stream",
     "text": [
      "                0         1        2          3       4       5\n",
      "0      447.831492  276947.0  13831.0  2423855.0  1605.0  1816.0\n",
      "1      442.785501  158229.0  12612.0  2423883.0  1059.0  2171.0\n",
      "2      430.971399  144577.0  13376.0  2423894.0  1574.0  1619.0\n",
      "3      414.543473  180726.0  12636.0  2423906.0  1261.0  2201.0\n",
      "4      392.590909  150786.0  12682.0  2423914.0  1549.0  3426.0\n",
      "...           ...       ...      ...        ...     ...     ...\n",
      "12210         NaN       NaN      NaN        NaN     NaN     NaN\n",
      "12211         NaN       NaN      NaN        NaN     NaN     NaN\n",
      "12212         NaN       NaN      NaN        NaN     NaN     NaN\n",
      "12213         NaN       NaN      NaN        NaN     NaN     NaN\n",
      "12214         NaN       NaN      NaN        NaN     NaN     NaN\n",
      "\n",
      "[12215 rows x 6 columns]\n"
     ]
    }
   ],
   "source": [
    "#Dropping of white noise found through the iteration of all the negative files\n",
    "count = 0\n",
    "total = 0 \n",
    "for i in range(len(file_pos)):\n",
    "    df_pos = load_waveform(file_dir + \"positive/\" + file_pos[i])\n",
    "    total += len(df_pos)\n",
    "    noise= savgol_filter(df_pos)\n",
    "    df_pos.to_csv(os.getcwd() + \"/Cleansed/positive/\" + file_pos[i][:-3] + \".csv\")\n"
   ]
  },
  {
   "cell_type": "markdown",
   "id": "c1bc5cdc",
   "metadata": {},
   "source": [
    "## Unclassified Data "
   ]
  },
  {
   "cell_type": "code",
   "execution_count": 32,
   "id": "0c800fd5",
   "metadata": {},
   "outputs": [],
   "source": [
    "#Dropping of white noise found through the iteration of all the negative files\n",
    "count = 0\n",
    "total = 0 \n",
    "for i in range(len(file_unclassified)):\n",
    "    df_unclassified = load_waveform(file_dir + \"unclassified/\" + file_unclassified[i])\n",
    "    total += len(df_unclassified)\n",
    "    noise= savgol_filter(df_unclassified)\n",
    "    df_pos.to_csv(os.getcwd() + \"/Cleansed/unclassified/\" + file_unclassified[i][:-3] + \".csv\")\n"
   ]
  }
 ],
 "metadata": {
  "kernelspec": {
   "display_name": "Python 3 (ipykernel)",
   "language": "python",
   "name": "python3"
  },
  "language_info": {
   "codemirror_mode": {
    "name": "ipython",
    "version": 3
   },
   "file_extension": ".py",
   "mimetype": "text/x-python",
   "name": "python",
   "nbconvert_exporter": "python",
   "pygments_lexer": "ipython3",
   "version": "3.9.0"
  }
 },
 "nbformat": 4,
 "nbformat_minor": 5
}
