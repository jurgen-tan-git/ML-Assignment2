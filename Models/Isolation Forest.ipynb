{
 "cells": [
  {
   "cell_type": "code",
   "execution_count": 1,
   "id": "6f22ccdb",
   "metadata": {},
   "outputs": [],
   "source": [
    "import numpy as np\n",
    "import pandas as pd\n",
    "import seaborn as sns\n",
    "import os\n",
    "\n",
    "from sklearn.ensemble import IsolationForest\n",
    "from sklearn.model_selection import train_test_split\n",
    "from sklearn import preprocessing\n",
    "\n",
    "from sklearn.metrics import *"
   ]
  },
  {
   "cell_type": "code",
   "execution_count": 3,
   "id": "efb491aa",
   "metadata": {},
   "outputs": [
    {
     "data": {
      "text/html": [
       "<div>\n",
       "<style scoped>\n",
       "    .dataframe tbody tr th:only-of-type {\n",
       "        vertical-align: middle;\n",
       "    }\n",
       "\n",
       "    .dataframe tbody tr th {\n",
       "        vertical-align: top;\n",
       "    }\n",
       "\n",
       "    .dataframe thead th {\n",
       "        text-align: right;\n",
       "    }\n",
       "</style>\n",
       "<table border=\"1\" class=\"dataframe\">\n",
       "  <thead>\n",
       "    <tr style=\"text-align: right;\">\n",
       "      <th></th>\n",
       "      <th>integral</th>\n",
       "      <th>phase_angle</th>\n",
       "      <th>cycle_number</th>\n",
       "      <th>rise_time</th>\n",
       "      <th>pulse_width</th>\n",
       "      <th>type</th>\n",
       "    </tr>\n",
       "    <tr>\n",
       "      <th>peak_amplitude</th>\n",
       "      <th></th>\n",
       "      <th></th>\n",
       "      <th></th>\n",
       "      <th></th>\n",
       "      <th></th>\n",
       "      <th></th>\n",
       "    </tr>\n",
       "  </thead>\n",
       "  <tbody>\n",
       "    <tr>\n",
       "      <th>-58.530580</th>\n",
       "      <td>-39.367594</td>\n",
       "      <td>-55.401772</td>\n",
       "      <td>269.148817</td>\n",
       "      <td>-58.205164</td>\n",
       "      <td>-57.643707</td>\n",
       "      <td>pos</td>\n",
       "    </tr>\n",
       "    <tr>\n",
       "      <th>-28.500573</th>\n",
       "      <td>-148.857548</td>\n",
       "      <td>-26.708968</td>\n",
       "      <td>261.213459</td>\n",
       "      <td>-28.575458</td>\n",
       "      <td>-28.570913</td>\n",
       "      <td>pos</td>\n",
       "    </tr>\n",
       "    <tr>\n",
       "      <th>-28.180181</th>\n",
       "      <td>-21.407660</td>\n",
       "      <td>-27.556941</td>\n",
       "      <td>133.389387</td>\n",
       "      <td>-28.098914</td>\n",
       "      <td>-28.145693</td>\n",
       "      <td>pos</td>\n",
       "    </tr>\n",
       "    <tr>\n",
       "      <th>-54.233660</th>\n",
       "      <td>-43.214370</td>\n",
       "      <td>-51.485712</td>\n",
       "      <td>257.398127</td>\n",
       "      <td>-54.306465</td>\n",
       "      <td>-54.157919</td>\n",
       "      <td>pos</td>\n",
       "    </tr>\n",
       "    <tr>\n",
       "      <th>-42.682480</th>\n",
       "      <td>-53.075543</td>\n",
       "      <td>-39.978731</td>\n",
       "      <td>221.014658</td>\n",
       "      <td>-42.647502</td>\n",
       "      <td>-42.630402</td>\n",
       "      <td>pos</td>\n",
       "    </tr>\n",
       "    <tr>\n",
       "      <th>...</th>\n",
       "      <td>...</td>\n",
       "      <td>...</td>\n",
       "      <td>...</td>\n",
       "      <td>...</td>\n",
       "      <td>...</td>\n",
       "      <td>...</td>\n",
       "    </tr>\n",
       "    <tr>\n",
       "      <th>-61.604708</th>\n",
       "      <td>-48.346873</td>\n",
       "      <td>-59.938636</td>\n",
       "      <td>292.980809</td>\n",
       "      <td>-61.589891</td>\n",
       "      <td>-61.500701</td>\n",
       "      <td>neg</td>\n",
       "    </tr>\n",
       "    <tr>\n",
       "      <th>-87.779407</th>\n",
       "      <td>65.405605</td>\n",
       "      <td>-86.670108</td>\n",
       "      <td>284.525324</td>\n",
       "      <td>-87.692400</td>\n",
       "      <td>-87.789015</td>\n",
       "      <td>neg</td>\n",
       "    </tr>\n",
       "    <tr>\n",
       "      <th>-74.319017</th>\n",
       "      <td>-20.659884</td>\n",
       "      <td>-72.685107</td>\n",
       "      <td>314.769197</td>\n",
       "      <td>-73.395289</td>\n",
       "      <td>-73.709899</td>\n",
       "      <td>neg</td>\n",
       "    </tr>\n",
       "    <tr>\n",
       "      <th>-37.902093</th>\n",
       "      <td>214.927648</td>\n",
       "      <td>-36.287730</td>\n",
       "      <td>-65.515717</td>\n",
       "      <td>-37.683912</td>\n",
       "      <td>-37.538196</td>\n",
       "      <td>neg</td>\n",
       "    </tr>\n",
       "    <tr>\n",
       "      <th>-56.217655</th>\n",
       "      <td>176.028575</td>\n",
       "      <td>-55.604411</td>\n",
       "      <td>48.317363</td>\n",
       "      <td>-56.283577</td>\n",
       "      <td>-56.240295</td>\n",
       "      <td>neg</td>\n",
       "    </tr>\n",
       "  </tbody>\n",
       "</table>\n",
       "<p>354 rows × 6 columns</p>\n",
       "</div>"
      ],
      "text/plain": [
       "                  integral  phase_angle  cycle_number  rise_time  pulse_width  \\\n",
       "peak_amplitude                                                                  \n",
       "-58.530580      -39.367594   -55.401772    269.148817 -58.205164   -57.643707   \n",
       "-28.500573     -148.857548   -26.708968    261.213459 -28.575458   -28.570913   \n",
       "-28.180181      -21.407660   -27.556941    133.389387 -28.098914   -28.145693   \n",
       "-54.233660      -43.214370   -51.485712    257.398127 -54.306465   -54.157919   \n",
       "-42.682480      -53.075543   -39.978731    221.014658 -42.647502   -42.630402   \n",
       "...                    ...          ...           ...        ...          ...   \n",
       "-61.604708      -48.346873   -59.938636    292.980809 -61.589891   -61.500701   \n",
       "-87.779407       65.405605   -86.670108    284.525324 -87.692400   -87.789015   \n",
       "-74.319017      -20.659884   -72.685107    314.769197 -73.395289   -73.709899   \n",
       "-37.902093      214.927648   -36.287730    -65.515717 -37.683912   -37.538196   \n",
       "-56.217655      176.028575   -55.604411     48.317363 -56.283577   -56.240295   \n",
       "\n",
       "               type  \n",
       "peak_amplitude       \n",
       "-58.530580      pos  \n",
       "-28.500573      pos  \n",
       "-28.180181      pos  \n",
       "-54.233660      pos  \n",
       "-42.682480      pos  \n",
       "...             ...  \n",
       "-61.604708      neg  \n",
       "-87.779407      neg  \n",
       "-74.319017      neg  \n",
       "-37.902093      neg  \n",
       "-56.217655      neg  \n",
       "\n",
       "[354 rows x 6 columns]"
      ]
     },
     "execution_count": 3,
     "metadata": {},
     "output_type": "execute_result"
    }
   ],
   "source": [
    "df = pd.read_csv(os.getcwd() + \"/df_all.csv\", index_col=0)\n",
    "df"
   ]
  },
  {
   "cell_type": "code",
   "execution_count": 10,
   "id": "fd777196",
   "metadata": {
    "scrolled": true
   },
   "outputs": [],
   "source": [
    "le = preprocessing.LabelEncoder()\n",
    "X = df.iloc[:,:-1].values\n",
    "y = le.fit_transform(df.iloc[:,-1])"
   ]
  },
  {
   "cell_type": "code",
   "execution_count": 11,
   "id": "dbc3307c",
   "metadata": {},
   "outputs": [],
   "source": [
    "X_train, X_test, y_train, y_test = train_test_split(X, y, test_size=0.2, random_state=0)"
   ]
  },
  {
   "cell_type": "code",
   "execution_count": 12,
   "id": "6219f947",
   "metadata": {
    "scrolled": true
   },
   "outputs": [
    {
     "data": {
      "text/html": [
       "<style>#sk-container-id-2 {color: black;background-color: white;}#sk-container-id-2 pre{padding: 0;}#sk-container-id-2 div.sk-toggleable {background-color: white;}#sk-container-id-2 label.sk-toggleable__label {cursor: pointer;display: block;width: 100%;margin-bottom: 0;padding: 0.3em;box-sizing: border-box;text-align: center;}#sk-container-id-2 label.sk-toggleable__label-arrow:before {content: \"▸\";float: left;margin-right: 0.25em;color: #696969;}#sk-container-id-2 label.sk-toggleable__label-arrow:hover:before {color: black;}#sk-container-id-2 div.sk-estimator:hover label.sk-toggleable__label-arrow:before {color: black;}#sk-container-id-2 div.sk-toggleable__content {max-height: 0;max-width: 0;overflow: hidden;text-align: left;background-color: #f0f8ff;}#sk-container-id-2 div.sk-toggleable__content pre {margin: 0.2em;color: black;border-radius: 0.25em;background-color: #f0f8ff;}#sk-container-id-2 input.sk-toggleable__control:checked~div.sk-toggleable__content {max-height: 200px;max-width: 100%;overflow: auto;}#sk-container-id-2 input.sk-toggleable__control:checked~label.sk-toggleable__label-arrow:before {content: \"▾\";}#sk-container-id-2 div.sk-estimator input.sk-toggleable__control:checked~label.sk-toggleable__label {background-color: #d4ebff;}#sk-container-id-2 div.sk-label input.sk-toggleable__control:checked~label.sk-toggleable__label {background-color: #d4ebff;}#sk-container-id-2 input.sk-hidden--visually {border: 0;clip: rect(1px 1px 1px 1px);clip: rect(1px, 1px, 1px, 1px);height: 1px;margin: -1px;overflow: hidden;padding: 0;position: absolute;width: 1px;}#sk-container-id-2 div.sk-estimator {font-family: monospace;background-color: #f0f8ff;border: 1px dotted black;border-radius: 0.25em;box-sizing: border-box;margin-bottom: 0.5em;}#sk-container-id-2 div.sk-estimator:hover {background-color: #d4ebff;}#sk-container-id-2 div.sk-parallel-item::after {content: \"\";width: 100%;border-bottom: 1px solid gray;flex-grow: 1;}#sk-container-id-2 div.sk-label:hover label.sk-toggleable__label {background-color: #d4ebff;}#sk-container-id-2 div.sk-serial::before {content: \"\";position: absolute;border-left: 1px solid gray;box-sizing: border-box;top: 0;bottom: 0;left: 50%;z-index: 0;}#sk-container-id-2 div.sk-serial {display: flex;flex-direction: column;align-items: center;background-color: white;padding-right: 0.2em;padding-left: 0.2em;position: relative;}#sk-container-id-2 div.sk-item {position: relative;z-index: 1;}#sk-container-id-2 div.sk-parallel {display: flex;align-items: stretch;justify-content: center;background-color: white;position: relative;}#sk-container-id-2 div.sk-item::before, #sk-container-id-2 div.sk-parallel-item::before {content: \"\";position: absolute;border-left: 1px solid gray;box-sizing: border-box;top: 0;bottom: 0;left: 50%;z-index: -1;}#sk-container-id-2 div.sk-parallel-item {display: flex;flex-direction: column;z-index: 1;position: relative;background-color: white;}#sk-container-id-2 div.sk-parallel-item:first-child::after {align-self: flex-end;width: 50%;}#sk-container-id-2 div.sk-parallel-item:last-child::after {align-self: flex-start;width: 50%;}#sk-container-id-2 div.sk-parallel-item:only-child::after {width: 0;}#sk-container-id-2 div.sk-dashed-wrapped {border: 1px dashed gray;margin: 0 0.4em 0.5em 0.4em;box-sizing: border-box;padding-bottom: 0.4em;background-color: white;}#sk-container-id-2 div.sk-label label {font-family: monospace;font-weight: bold;display: inline-block;line-height: 1.2em;}#sk-container-id-2 div.sk-label-container {text-align: center;}#sk-container-id-2 div.sk-container {/* jupyter's `normalize.less` sets `[hidden] { display: none; }` but bootstrap.min.css set `[hidden] { display: none !important; }` so we also need the `!important` here to be able to override the default hidden behavior on the sphinx rendered scikit-learn.org. See: https://github.com/scikit-learn/scikit-learn/issues/21755 */display: inline-block !important;position: relative;}#sk-container-id-2 div.sk-text-repr-fallback {display: none;}</style><div id=\"sk-container-id-2\" class=\"sk-top-container\"><div class=\"sk-text-repr-fallback\"><pre>IsolationForest()</pre><b>In a Jupyter environment, please rerun this cell to show the HTML representation or trust the notebook. <br />On GitHub, the HTML representation is unable to render, please try loading this page with nbviewer.org.</b></div><div class=\"sk-container\" hidden><div class=\"sk-item\"><div class=\"sk-estimator sk-toggleable\"><input class=\"sk-toggleable__control sk-hidden--visually\" id=\"sk-estimator-id-2\" type=\"checkbox\" checked><label for=\"sk-estimator-id-2\" class=\"sk-toggleable__label sk-toggleable__label-arrow\">IsolationForest</label><div class=\"sk-toggleable__content\"><pre>IsolationForest()</pre></div></div></div></div></div>"
      ],
      "text/plain": [
       "IsolationForest()"
      ]
     },
     "execution_count": 12,
     "metadata": {},
     "output_type": "execute_result"
    }
   ],
   "source": [
    "isoforest = IsolationForest(n_estimators = 100)\n",
    "isoforest.fit(X_train)"
   ]
  },
  {
   "cell_type": "code",
   "execution_count": 13,
   "id": "c3a67956",
   "metadata": {},
   "outputs": [],
   "source": [
    "y_pred =  isoforest.predict(X_test)"
   ]
  },
  {
   "cell_type": "code",
   "execution_count": 14,
   "id": "3063404c",
   "metadata": {
    "scrolled": false
   },
   "outputs": [
    {
     "data": {
      "text/html": [
       "<div>\n",
       "<style scoped>\n",
       "    .dataframe tbody tr th:only-of-type {\n",
       "        vertical-align: middle;\n",
       "    }\n",
       "\n",
       "    .dataframe tbody tr th {\n",
       "        vertical-align: top;\n",
       "    }\n",
       "\n",
       "    .dataframe thead th {\n",
       "        text-align: right;\n",
       "    }\n",
       "</style>\n",
       "<table border=\"1\" class=\"dataframe\">\n",
       "  <thead>\n",
       "    <tr style=\"text-align: right;\">\n",
       "      <th></th>\n",
       "      <th>Predicted values</th>\n",
       "      <th>Actual values</th>\n",
       "    </tr>\n",
       "  </thead>\n",
       "  <tbody>\n",
       "    <tr>\n",
       "      <th>0</th>\n",
       "      <td>-1</td>\n",
       "      <td>1</td>\n",
       "    </tr>\n",
       "    <tr>\n",
       "      <th>1</th>\n",
       "      <td>-1</td>\n",
       "      <td>1</td>\n",
       "    </tr>\n",
       "    <tr>\n",
       "      <th>2</th>\n",
       "      <td>1</td>\n",
       "      <td>0</td>\n",
       "    </tr>\n",
       "    <tr>\n",
       "      <th>3</th>\n",
       "      <td>1</td>\n",
       "      <td>0</td>\n",
       "    </tr>\n",
       "    <tr>\n",
       "      <th>4</th>\n",
       "      <td>1</td>\n",
       "      <td>1</td>\n",
       "    </tr>\n",
       "    <tr>\n",
       "      <th>...</th>\n",
       "      <td>...</td>\n",
       "      <td>...</td>\n",
       "    </tr>\n",
       "    <tr>\n",
       "      <th>66</th>\n",
       "      <td>1</td>\n",
       "      <td>0</td>\n",
       "    </tr>\n",
       "    <tr>\n",
       "      <th>67</th>\n",
       "      <td>1</td>\n",
       "      <td>0</td>\n",
       "    </tr>\n",
       "    <tr>\n",
       "      <th>68</th>\n",
       "      <td>1</td>\n",
       "      <td>0</td>\n",
       "    </tr>\n",
       "    <tr>\n",
       "      <th>69</th>\n",
       "      <td>1</td>\n",
       "      <td>0</td>\n",
       "    </tr>\n",
       "    <tr>\n",
       "      <th>70</th>\n",
       "      <td>1</td>\n",
       "      <td>1</td>\n",
       "    </tr>\n",
       "  </tbody>\n",
       "</table>\n",
       "<p>71 rows × 2 columns</p>\n",
       "</div>"
      ],
      "text/plain": [
       "    Predicted values  Actual values\n",
       "0                 -1              1\n",
       "1                 -1              1\n",
       "2                  1              0\n",
       "3                  1              0\n",
       "4                  1              1\n",
       "..               ...            ...\n",
       "66                 1              0\n",
       "67                 1              0\n",
       "68                 1              0\n",
       "69                 1              0\n",
       "70                 1              1\n",
       "\n",
       "[71 rows x 2 columns]"
      ]
     },
     "execution_count": 14,
     "metadata": {},
     "output_type": "execute_result"
    }
   ],
   "source": [
    "pred_data = pd.DataFrame({\"Predicted values\":y_pred, \"Actual values\":y_test})\n",
    "pred_data"
   ]
  },
  {
   "cell_type": "code",
   "execution_count": 18,
   "id": "7d26cdb6",
   "metadata": {
    "scrolled": false
   },
   "outputs": [
    {
     "name": "stdout",
     "output_type": "stream",
     "text": [
      "[[ 0  0  0]\n",
      " [ 4  0 32]\n",
      " [13  0 22]]\n"
     ]
    },
    {
     "data": {
      "text/plain": [
       "0.30985915492957744"
      ]
     },
     "execution_count": 18,
     "metadata": {},
     "output_type": "execute_result"
    }
   ],
   "source": [
    "cm= confusion_matrix(y_test,y_pred)\n",
    "print(cm)\n",
    "accuracy_score(y_test, y_pred)"
   ]
  },
  {
   "cell_type": "markdown",
   "id": "bba34694",
   "metadata": {},
   "source": [
    "## y_pred\n",
    "Isolation Tree\n",
    "pos = -1\n",
    "neg = 1\n",
    "\n",
    "## y_test\n",
    "Label Encoder\n",
    "pos = 1\n",
    "neg = 0"
   ]
  },
  {
   "cell_type": "code",
   "execution_count": 17,
   "id": "7b096d26",
   "metadata": {},
   "outputs": [
    {
     "name": "stdout",
     "output_type": "stream",
     "text": [
      "45\n",
      "0.6338028169014085\n"
     ]
    }
   ],
   "source": [
    "count = 0 \n",
    "for i in range(len(y_test)):\n",
    "    if (y_pred[i] == -1 and y_test[i] == 1):\n",
    "        count += 1\n",
    "    elif(y_pred[i] == 1 and y_test[i] == 0):\n",
    "        count +=1\n",
    "print(count)\n",
    "print(count/len(y_test))"
   ]
  },
  {
   "cell_type": "code",
   "execution_count": 10,
   "id": "db3fd9e3",
   "metadata": {
    "scrolled": true
   },
   "outputs": [
    {
     "name": "stdout",
     "output_type": "stream",
     "text": [
      "['integral' 'phase_angle' 'cycle_number' 'rise_time' 'pulse_width' 'type']\n",
      "[[ 0  0  0]\n",
      " [ 4  0 32]\n",
      " [15  0 20]]\n",
      "0.6619718309859155\n",
      "['peak_amplitude' 'phase_angle' 'cycle_number' 'rise_time' 'pulse_width'\n",
      " 'type']\n",
      "[[ 0  0  0]\n",
      " [ 6  0 30]\n",
      " [11  0 24]]\n",
      "0.5774647887323944\n",
      "['peak_amplitude' 'integral' 'cycle_number' 'rise_time' 'pulse_width'\n",
      " 'type']\n",
      "[[ 0  0  0]\n",
      " [ 4  0 32]\n",
      " [12  0 23]]\n",
      "0.6197183098591549\n",
      "['peak_amplitude' 'integral' 'phase_angle' 'rise_time' 'pulse_width'\n",
      " 'type']\n",
      "[[ 0  0  0]\n",
      " [ 5  0 31]\n",
      " [13  0 22]]\n",
      "0.6197183098591549\n",
      "['peak_amplitude' 'integral' 'phase_angle' 'cycle_number' 'pulse_width'\n",
      " 'type']\n",
      "[[ 0  0  0]\n",
      " [ 4  0 32]\n",
      " [13  0 22]]\n",
      "0.6338028169014085\n",
      "['peak_amplitude' 'integral' 'phase_angle' 'cycle_number' 'rise_time'\n",
      " 'type']\n",
      "[[ 0  0  0]\n",
      " [ 4  0 32]\n",
      " [15  0 20]]\n",
      "0.6619718309859155\n"
     ]
    }
   ],
   "source": [
    "for i in range(6):\n",
    "    test = df\n",
    "    test = test.drop(test.columns[i], axis=1)\n",
    "    print(test.columns.values)\n",
    "    le = preprocessing.LabelEncoder()\n",
    "\n",
    "    X = test.iloc[:,:-1]\n",
    "    y = le.fit_transform(test.iloc[:,-1])\n",
    "    X_train, X_test, y_train, y_test = train_test_split(X, y, test_size=0.2, random_state = 0)\n",
    "    \n",
    "    isoforest = IsolationForest(n_estimators = 100)\n",
    "    isoforest.fit(X_train)\n",
    "    y_pred =  isoforest.predict(X_test)\n",
    "    cm= confusion_matrix(y_test,y_pred)\n",
    "    print(cm)\n",
    "    count = 0 \n",
    "    for i in range(len(y_test)):\n",
    "        if (y_pred[i] == -1 and y_test[i] == 1):\n",
    "            count += 1\n",
    "        elif(y_pred[i] == 1 and y_test[i] == 0):\n",
    "            count +=1\n",
    "    print(count/len(y_test))"
   ]
  },
  {
   "cell_type": "code",
   "execution_count": null,
   "id": "24fa595a",
   "metadata": {},
   "outputs": [],
   "source": []
  },
  {
   "cell_type": "markdown",
   "id": "d9c312a7",
   "metadata": {},
   "source": [
    "## Isolation Tree Iteration Result"
   ]
  },
  {
   "cell_type": "raw",
   "id": "6823baa0",
   "metadata": {},
   "source": [
    "Without Removal\n",
    "Accuracy score: 0.647887323943662\n",
    "\n",
    "\n",
    "Removal\n",
    "Removed components: 0 (peak_amplitude) | Accuracy score: 0.6619718309859155\n",
    "Removed components: 1 (integral)       | Accuracy score: 0.5774647887323944\n",
    "Removed components: 2 (phase_angle)    | Accuracy score: 0.6197183098591549\n",
    "Removed components: 3 (cycle_number)   | Accuracy score: 0.6197183098591549\n",
    "Removed components: 4 (rise_time)      | Accuracy score: 0.6338028169014085\n",
    "Removed components: 5 (pulse_width)    | Accuracy score: 0.6619718309859155"
   ]
  },
  {
   "cell_type": "code",
   "execution_count": null,
   "id": "cf92e8c8",
   "metadata": {},
   "outputs": [],
   "source": []
  }
 ],
 "metadata": {
  "kernelspec": {
   "display_name": "Python 3 (ipykernel)",
   "language": "python",
   "name": "python3"
  },
  "language_info": {
   "codemirror_mode": {
    "name": "ipython",
    "version": 3
   },
   "file_extension": ".py",
   "mimetype": "text/x-python",
   "name": "python",
   "nbconvert_exporter": "python",
   "pygments_lexer": "ipython3",
   "version": "3.9.0"
  }
 },
 "nbformat": 4,
 "nbformat_minor": 5
}
