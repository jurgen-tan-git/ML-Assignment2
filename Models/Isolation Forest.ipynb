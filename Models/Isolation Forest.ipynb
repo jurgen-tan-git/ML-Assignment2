{
 "cells": [
  {
   "cell_type": "code",
   "execution_count": 1,
   "id": "6f22ccdb",
   "metadata": {},
   "outputs": [],
   "source": [
    "import numpy as np\n",
    "import pandas as pd\n",
    "import seaborn as sns\n",
    "import os\n",
    "\n",
    "from sklearn.ensemble import IsolationForest\n",
    "from sklearn.model_selection import train_test_split\n",
    "from sklearn import preprocessing\n",
    "\n",
    "from sklearn.metrics import confusion_matrix\n",
    "from sklearn.metrics import accuracy_score\n",
    "from sklearn.metrics import f1_score"
   ]
  },
  {
   "cell_type": "code",
   "execution_count": 2,
   "id": "efb491aa",
   "metadata": {},
   "outputs": [
    {
     "data": {
      "text/html": [
       "<div>\n",
       "<style scoped>\n",
       "    .dataframe tbody tr th:only-of-type {\n",
       "        vertical-align: middle;\n",
       "    }\n",
       "\n",
       "    .dataframe tbody tr th {\n",
       "        vertical-align: top;\n",
       "    }\n",
       "\n",
       "    .dataframe thead th {\n",
       "        text-align: right;\n",
       "    }\n",
       "</style>\n",
       "<table border=\"1\" class=\"dataframe\">\n",
       "  <thead>\n",
       "    <tr style=\"text-align: right;\">\n",
       "      <th></th>\n",
       "      <th>peak_amplitude</th>\n",
       "      <th>integral</th>\n",
       "      <th>phase_angle</th>\n",
       "      <th>cycle_number</th>\n",
       "      <th>rise_time</th>\n",
       "      <th>pulse_width</th>\n",
       "      <th>type</th>\n",
       "    </tr>\n",
       "  </thead>\n",
       "  <tbody>\n",
       "    <tr>\n",
       "      <th>0</th>\n",
       "      <td>0.956876</td>\n",
       "      <td>-4896</td>\n",
       "      <td>163</td>\n",
       "      <td>32698</td>\n",
       "      <td>0</td>\n",
       "      <td>0</td>\n",
       "      <td>neg</td>\n",
       "    </tr>\n",
       "    <tr>\n",
       "      <th>1</th>\n",
       "      <td>3.558275</td>\n",
       "      <td>-9372</td>\n",
       "      <td>152</td>\n",
       "      <td>31507</td>\n",
       "      <td>0</td>\n",
       "      <td>0</td>\n",
       "      <td>pos</td>\n",
       "    </tr>\n",
       "    <tr>\n",
       "      <th>2</th>\n",
       "      <td>16.040210</td>\n",
       "      <td>20326</td>\n",
       "      <td>113</td>\n",
       "      <td>35611</td>\n",
       "      <td>0</td>\n",
       "      <td>32</td>\n",
       "      <td>neg</td>\n",
       "    </tr>\n",
       "    <tr>\n",
       "      <th>3</th>\n",
       "      <td>17.296037</td>\n",
       "      <td>18912</td>\n",
       "      <td>221</td>\n",
       "      <td>32734</td>\n",
       "      <td>0</td>\n",
       "      <td>0</td>\n",
       "      <td>neg</td>\n",
       "    </tr>\n",
       "    <tr>\n",
       "      <th>4</th>\n",
       "      <td>6.600233</td>\n",
       "      <td>-17240</td>\n",
       "      <td>126</td>\n",
       "      <td>28314</td>\n",
       "      <td>0</td>\n",
       "      <td>0</td>\n",
       "      <td>pos</td>\n",
       "    </tr>\n",
       "    <tr>\n",
       "      <th>...</th>\n",
       "      <td>...</td>\n",
       "      <td>...</td>\n",
       "      <td>...</td>\n",
       "      <td>...</td>\n",
       "      <td>...</td>\n",
       "      <td>...</td>\n",
       "      <td>...</td>\n",
       "    </tr>\n",
       "    <tr>\n",
       "      <th>5286175</th>\n",
       "      <td>12.029138</td>\n",
       "      <td>3151</td>\n",
       "      <td>275</td>\n",
       "      <td>15542</td>\n",
       "      <td>0</td>\n",
       "      <td>0</td>\n",
       "      <td>pos</td>\n",
       "    </tr>\n",
       "    <tr>\n",
       "      <th>5286176</th>\n",
       "      <td>9.960956</td>\n",
       "      <td>-17648</td>\n",
       "      <td>118</td>\n",
       "      <td>38209</td>\n",
       "      <td>0</td>\n",
       "      <td>0</td>\n",
       "      <td>pos</td>\n",
       "    </tr>\n",
       "    <tr>\n",
       "      <th>5286177</th>\n",
       "      <td>2.715035</td>\n",
       "      <td>2542</td>\n",
       "      <td>158</td>\n",
       "      <td>22870</td>\n",
       "      <td>0</td>\n",
       "      <td>0</td>\n",
       "      <td>neg</td>\n",
       "    </tr>\n",
       "    <tr>\n",
       "      <th>5286178</th>\n",
       "      <td>3.945221</td>\n",
       "      <td>3221</td>\n",
       "      <td>127</td>\n",
       "      <td>24506</td>\n",
       "      <td>0</td>\n",
       "      <td>0</td>\n",
       "      <td>neg</td>\n",
       "    </tr>\n",
       "    <tr>\n",
       "      <th>5286179</th>\n",
       "      <td>1.812937</td>\n",
       "      <td>1227</td>\n",
       "      <td>36</td>\n",
       "      <td>20297</td>\n",
       "      <td>1</td>\n",
       "      <td>17</td>\n",
       "      <td>pos</td>\n",
       "    </tr>\n",
       "  </tbody>\n",
       "</table>\n",
       "<p>5286180 rows × 7 columns</p>\n",
       "</div>"
      ],
      "text/plain": [
       "         peak_amplitude  integral  phase_angle  cycle_number  rise_time  \\\n",
       "0              0.956876     -4896          163         32698          0   \n",
       "1              3.558275     -9372          152         31507          0   \n",
       "2             16.040210     20326          113         35611          0   \n",
       "3             17.296037     18912          221         32734          0   \n",
       "4              6.600233    -17240          126         28314          0   \n",
       "...                 ...       ...          ...           ...        ...   \n",
       "5286175       12.029138      3151          275         15542          0   \n",
       "5286176        9.960956    -17648          118         38209          0   \n",
       "5286177        2.715035      2542          158         22870          0   \n",
       "5286178        3.945221      3221          127         24506          0   \n",
       "5286179        1.812937      1227           36         20297          1   \n",
       "\n",
       "         pulse_width type  \n",
       "0                  0  neg  \n",
       "1                  0  pos  \n",
       "2                 32  neg  \n",
       "3                  0  neg  \n",
       "4                  0  pos  \n",
       "...              ...  ...  \n",
       "5286175            0  pos  \n",
       "5286176            0  pos  \n",
       "5286177            0  neg  \n",
       "5286178            0  neg  \n",
       "5286179           17  pos  \n",
       "\n",
       "[5286180 rows x 7 columns]"
      ]
     },
     "execution_count": 2,
     "metadata": {},
     "output_type": "execute_result"
    }
   ],
   "source": [
    "df = pd.read_csv(os.getcwd() + \"/df_all.csv\")\n",
    "df"
   ]
  },
  {
   "cell_type": "code",
   "execution_count": 3,
   "id": "fd777196",
   "metadata": {
    "scrolled": true
   },
   "outputs": [],
   "source": [
    "le = preprocessing.LabelEncoder()\n",
    "X = df.iloc[:,:-1].values\n",
    "y = le.fit_transform(df.iloc[:,-1])"
   ]
  },
  {
   "cell_type": "code",
   "execution_count": 4,
   "id": "dbc3307c",
   "metadata": {},
   "outputs": [],
   "source": [
    "X_train, X_test, y_train, y_test = train_test_split(X, y, test_size=0.2, random_state=0)"
   ]
  },
  {
   "cell_type": "code",
   "execution_count": 5,
   "id": "6219f947",
   "metadata": {
    "scrolled": true
   },
   "outputs": [
    {
     "data": {
      "text/html": [
       "<style>#sk-container-id-1 {color: black;background-color: white;}#sk-container-id-1 pre{padding: 0;}#sk-container-id-1 div.sk-toggleable {background-color: white;}#sk-container-id-1 label.sk-toggleable__label {cursor: pointer;display: block;width: 100%;margin-bottom: 0;padding: 0.3em;box-sizing: border-box;text-align: center;}#sk-container-id-1 label.sk-toggleable__label-arrow:before {content: \"▸\";float: left;margin-right: 0.25em;color: #696969;}#sk-container-id-1 label.sk-toggleable__label-arrow:hover:before {color: black;}#sk-container-id-1 div.sk-estimator:hover label.sk-toggleable__label-arrow:before {color: black;}#sk-container-id-1 div.sk-toggleable__content {max-height: 0;max-width: 0;overflow: hidden;text-align: left;background-color: #f0f8ff;}#sk-container-id-1 div.sk-toggleable__content pre {margin: 0.2em;color: black;border-radius: 0.25em;background-color: #f0f8ff;}#sk-container-id-1 input.sk-toggleable__control:checked~div.sk-toggleable__content {max-height: 200px;max-width: 100%;overflow: auto;}#sk-container-id-1 input.sk-toggleable__control:checked~label.sk-toggleable__label-arrow:before {content: \"▾\";}#sk-container-id-1 div.sk-estimator input.sk-toggleable__control:checked~label.sk-toggleable__label {background-color: #d4ebff;}#sk-container-id-1 div.sk-label input.sk-toggleable__control:checked~label.sk-toggleable__label {background-color: #d4ebff;}#sk-container-id-1 input.sk-hidden--visually {border: 0;clip: rect(1px 1px 1px 1px);clip: rect(1px, 1px, 1px, 1px);height: 1px;margin: -1px;overflow: hidden;padding: 0;position: absolute;width: 1px;}#sk-container-id-1 div.sk-estimator {font-family: monospace;background-color: #f0f8ff;border: 1px dotted black;border-radius: 0.25em;box-sizing: border-box;margin-bottom: 0.5em;}#sk-container-id-1 div.sk-estimator:hover {background-color: #d4ebff;}#sk-container-id-1 div.sk-parallel-item::after {content: \"\";width: 100%;border-bottom: 1px solid gray;flex-grow: 1;}#sk-container-id-1 div.sk-label:hover label.sk-toggleable__label {background-color: #d4ebff;}#sk-container-id-1 div.sk-serial::before {content: \"\";position: absolute;border-left: 1px solid gray;box-sizing: border-box;top: 0;bottom: 0;left: 50%;z-index: 0;}#sk-container-id-1 div.sk-serial {display: flex;flex-direction: column;align-items: center;background-color: white;padding-right: 0.2em;padding-left: 0.2em;position: relative;}#sk-container-id-1 div.sk-item {position: relative;z-index: 1;}#sk-container-id-1 div.sk-parallel {display: flex;align-items: stretch;justify-content: center;background-color: white;position: relative;}#sk-container-id-1 div.sk-item::before, #sk-container-id-1 div.sk-parallel-item::before {content: \"\";position: absolute;border-left: 1px solid gray;box-sizing: border-box;top: 0;bottom: 0;left: 50%;z-index: -1;}#sk-container-id-1 div.sk-parallel-item {display: flex;flex-direction: column;z-index: 1;position: relative;background-color: white;}#sk-container-id-1 div.sk-parallel-item:first-child::after {align-self: flex-end;width: 50%;}#sk-container-id-1 div.sk-parallel-item:last-child::after {align-self: flex-start;width: 50%;}#sk-container-id-1 div.sk-parallel-item:only-child::after {width: 0;}#sk-container-id-1 div.sk-dashed-wrapped {border: 1px dashed gray;margin: 0 0.4em 0.5em 0.4em;box-sizing: border-box;padding-bottom: 0.4em;background-color: white;}#sk-container-id-1 div.sk-label label {font-family: monospace;font-weight: bold;display: inline-block;line-height: 1.2em;}#sk-container-id-1 div.sk-label-container {text-align: center;}#sk-container-id-1 div.sk-container {/* jupyter's `normalize.less` sets `[hidden] { display: none; }` but bootstrap.min.css set `[hidden] { display: none !important; }` so we also need the `!important` here to be able to override the default hidden behavior on the sphinx rendered scikit-learn.org. See: https://github.com/scikit-learn/scikit-learn/issues/21755 */display: inline-block !important;position: relative;}#sk-container-id-1 div.sk-text-repr-fallback {display: none;}</style><div id=\"sk-container-id-1\" class=\"sk-top-container\"><div class=\"sk-text-repr-fallback\"><pre>IsolationForest()</pre><b>In a Jupyter environment, please rerun this cell to show the HTML representation or trust the notebook. <br />On GitHub, the HTML representation is unable to render, please try loading this page with nbviewer.org.</b></div><div class=\"sk-container\" hidden><div class=\"sk-item\"><div class=\"sk-estimator sk-toggleable\"><input class=\"sk-toggleable__control sk-hidden--visually\" id=\"sk-estimator-id-1\" type=\"checkbox\" checked><label for=\"sk-estimator-id-1\" class=\"sk-toggleable__label sk-toggleable__label-arrow\">IsolationForest</label><div class=\"sk-toggleable__content\"><pre>IsolationForest()</pre></div></div></div></div></div>"
      ],
      "text/plain": [
       "IsolationForest()"
      ]
     },
     "execution_count": 5,
     "metadata": {},
     "output_type": "execute_result"
    }
   ],
   "source": [
    "isoforest = IsolationForest(n_estimators = 100)\n",
    "isoforest.fit(X_train)"
   ]
  },
  {
   "cell_type": "code",
   "execution_count": 6,
   "id": "c3a67956",
   "metadata": {},
   "outputs": [],
   "source": [
    "y_pred =  isoforest.predict(X_test)"
   ]
  },
  {
   "cell_type": "code",
   "execution_count": 7,
   "id": "3063404c",
   "metadata": {
    "scrolled": false
   },
   "outputs": [
    {
     "data": {
      "text/html": [
       "<div>\n",
       "<style scoped>\n",
       "    .dataframe tbody tr th:only-of-type {\n",
       "        vertical-align: middle;\n",
       "    }\n",
       "\n",
       "    .dataframe tbody tr th {\n",
       "        vertical-align: top;\n",
       "    }\n",
       "\n",
       "    .dataframe thead th {\n",
       "        text-align: right;\n",
       "    }\n",
       "</style>\n",
       "<table border=\"1\" class=\"dataframe\">\n",
       "  <thead>\n",
       "    <tr style=\"text-align: right;\">\n",
       "      <th></th>\n",
       "      <th>Predicted values</th>\n",
       "      <th>Actual values</th>\n",
       "    </tr>\n",
       "  </thead>\n",
       "  <tbody>\n",
       "    <tr>\n",
       "      <th>0</th>\n",
       "      <td>1</td>\n",
       "      <td>0</td>\n",
       "    </tr>\n",
       "    <tr>\n",
       "      <th>1</th>\n",
       "      <td>1</td>\n",
       "      <td>1</td>\n",
       "    </tr>\n",
       "    <tr>\n",
       "      <th>2</th>\n",
       "      <td>1</td>\n",
       "      <td>0</td>\n",
       "    </tr>\n",
       "    <tr>\n",
       "      <th>3</th>\n",
       "      <td>1</td>\n",
       "      <td>0</td>\n",
       "    </tr>\n",
       "    <tr>\n",
       "      <th>4</th>\n",
       "      <td>1</td>\n",
       "      <td>0</td>\n",
       "    </tr>\n",
       "    <tr>\n",
       "      <th>...</th>\n",
       "      <td>...</td>\n",
       "      <td>...</td>\n",
       "    </tr>\n",
       "    <tr>\n",
       "      <th>1057231</th>\n",
       "      <td>1</td>\n",
       "      <td>0</td>\n",
       "    </tr>\n",
       "    <tr>\n",
       "      <th>1057232</th>\n",
       "      <td>1</td>\n",
       "      <td>0</td>\n",
       "    </tr>\n",
       "    <tr>\n",
       "      <th>1057233</th>\n",
       "      <td>1</td>\n",
       "      <td>0</td>\n",
       "    </tr>\n",
       "    <tr>\n",
       "      <th>1057234</th>\n",
       "      <td>1</td>\n",
       "      <td>0</td>\n",
       "    </tr>\n",
       "    <tr>\n",
       "      <th>1057235</th>\n",
       "      <td>1</td>\n",
       "      <td>0</td>\n",
       "    </tr>\n",
       "  </tbody>\n",
       "</table>\n",
       "<p>1057236 rows × 2 columns</p>\n",
       "</div>"
      ],
      "text/plain": [
       "         Predicted values  Actual values\n",
       "0                       1              0\n",
       "1                       1              1\n",
       "2                       1              0\n",
       "3                       1              0\n",
       "4                       1              0\n",
       "...                   ...            ...\n",
       "1057231                 1              0\n",
       "1057232                 1              0\n",
       "1057233                 1              0\n",
       "1057234                 1              0\n",
       "1057235                 1              0\n",
       "\n",
       "[1057236 rows x 2 columns]"
      ]
     },
     "execution_count": 7,
     "metadata": {},
     "output_type": "execute_result"
    }
   ],
   "source": [
    "pred_data = pd.DataFrame({\"Predicted values\":y_pred, \"Actual values\":y_test})\n",
    "pred_data"
   ]
  },
  {
   "cell_type": "code",
   "execution_count": 8,
   "id": "7d26cdb6",
   "metadata": {
    "scrolled": false
   },
   "outputs": [
    {
     "name": "stdout",
     "output_type": "stream",
     "text": [
      "[[     0      0      0]\n",
      " [128071      0 490798]\n",
      " [ 62257      0 376110]]\n"
     ]
    }
   ],
   "source": [
    "cm= confusion_matrix(y_test,y_pred)\n",
    "print(cm)"
   ]
  },
  {
   "cell_type": "markdown",
   "id": "bba34694",
   "metadata": {},
   "source": [
    "## y_pred\n",
    "Isolation Tree\n",
    "pos = -1\n",
    "neg = 1\n",
    "\n",
    "## y_test\n",
    "Label Encoder\n",
    "pos = 1\n",
    "neg = 0"
   ]
  },
  {
   "cell_type": "code",
   "execution_count": 9,
   "id": "7b096d26",
   "metadata": {},
   "outputs": [
    {
     "name": "stdout",
     "output_type": "stream",
     "text": [
      "553055\n",
      "0.5231140445463454\n"
     ]
    }
   ],
   "source": [
    "count = 0 \n",
    "for i in range(len(y_test)):\n",
    "    if (y_pred[i] == -1 and y_test[i] == 1):\n",
    "        count += 1\n",
    "    elif(y_pred[i] == 1 and y_test[i] == 0):\n",
    "        count +=1\n",
    "print(count)\n",
    "print(count/len(y_test))"
   ]
  },
  {
   "cell_type": "code",
   "execution_count": 10,
   "id": "db3fd9e3",
   "metadata": {
    "scrolled": true
   },
   "outputs": [
    {
     "name": "stdout",
     "output_type": "stream",
     "text": [
      "['integral' 'phase_angle' 'cycle_number' 'rise_time' 'pulse_width' 'type']\n",
      "[[     0      0      0]\n",
      " [122365      0 496504]\n",
      " [ 57917      0 380450]]\n",
      "0.5244060928685743\n",
      "['peak_amplitude' 'phase_angle' 'cycle_number' 'rise_time' 'pulse_width'\n",
      " 'type']\n",
      "[[     0      0      0]\n",
      " [151904      0 466965]\n",
      " [ 72262      0 366105]]\n",
      "0.5100346564059491\n",
      "['peak_amplitude' 'integral' 'cycle_number' 'rise_time' 'pulse_width'\n",
      " 'type']\n",
      "[[     0      0      0]\n",
      " [134972      0 483897]\n",
      " [ 64600      0 373767]]\n",
      "0.5188028027800794\n",
      "['peak_amplitude' 'integral' 'phase_angle' 'rise_time' 'pulse_width'\n",
      " 'type']\n",
      "[[     0      0      0]\n",
      " [130275      0 488594]\n",
      " [ 68980      0 369387]]\n",
      "0.527388397670908\n",
      "['peak_amplitude' 'integral' 'phase_angle' 'cycle_number' 'pulse_width'\n",
      " 'type']\n",
      "[[     0      0      0]\n",
      " [162147      0 456722]\n",
      " [100768      0 337599]]\n",
      "0.5273089452118543\n",
      "['peak_amplitude' 'integral' 'phase_angle' 'cycle_number' 'rise_time'\n",
      " 'type']\n",
      "[[     0      0      0]\n",
      " [124991      0 493878]\n",
      " [ 69204      0 369163]]\n",
      "0.5325982089145659\n"
     ]
    }
   ],
   "source": [
    "for i in range(6):\n",
    "    test = df\n",
    "    test = test.drop(test.columns[i], axis=1)\n",
    "    print(test.columns.values)\n",
    "    le = preprocessing.LabelEncoder()\n",
    "\n",
    "    X = test.iloc[:,:-1]\n",
    "    y = le.fit_transform(test.iloc[:,-1])\n",
    "    X_train, X_test, y_train, y_test = train_test_split(X, y, test_size=0.2, random_state = 0)\n",
    "    \n",
    "    isoforest = IsolationForest(n_estimators = 100)\n",
    "    isoforest.fit(X_train)\n",
    "    y_pred =  isoforest.predict(X_test)\n",
    "    cm= confusion_matrix(y_test,y_pred)\n",
    "    print(cm)\n",
    "    count = 0 \n",
    "    for i in range(len(y_test)):\n",
    "        if (y_pred[i] == -1 and y_test[i] == 1):\n",
    "            count += 1\n",
    "        elif(y_pred[i] == 1 and y_test[i] == 0):\n",
    "            count +=1\n",
    "    print(count/len(y_test))"
   ]
  },
  {
   "cell_type": "code",
   "execution_count": null,
   "id": "24fa595a",
   "metadata": {},
   "outputs": [],
   "source": []
  },
  {
   "cell_type": "markdown",
   "id": "d9c312a7",
   "metadata": {},
   "source": [
    "## Isolation Tree Iteration Result"
   ]
  },
  {
   "cell_type": "markdown",
   "id": "b65ec47b",
   "metadata": {},
   "source": [
    "\n",
    "Removed components: 0 (peak_amplitude) | Accuracy score: 0.5244060928685743\n",
    "Removed components: 1 (integral)       | Accuracy score: 0.5100346564059491\n",
    "Removed components: 2 (phase_angle)    | Accuracy score: 0.5188028027800794\n",
    "Removed components: 3 (cycle_number)   | Accuracy score: 0.527388397670908\n",
    "Removed components: 4 (rise_time)      | Accuracy score: 0.5273089452118543\n",
    "Removed components: 5 (pulse_width)    | Accuracy score: 0.5325982089145659"
   ]
  }
 ],
 "metadata": {
  "kernelspec": {
   "display_name": "Python 3 (ipykernel)",
   "language": "python",
   "name": "python3"
  },
  "language_info": {
   "codemirror_mode": {
    "name": "ipython",
    "version": 3
   },
   "file_extension": ".py",
   "mimetype": "text/x-python",
   "name": "python",
   "nbconvert_exporter": "python",
   "pygments_lexer": "ipython3",
   "version": "3.10.6"
  }
 },
 "nbformat": 4,
 "nbformat_minor": 5
}
