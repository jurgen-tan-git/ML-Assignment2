{
 "cells": [
  {
   "cell_type": "code",
   "execution_count": 1,
   "metadata": {
    "id": "54dRvOTBQItv"
   },
   "outputs": [],
   "source": [
    "import matplotlib.pyplot as plt\n",
    "import pandas as pd\n",
    "import json\n",
    "import os"
   ]
  },
  {
   "cell_type": "code",
   "execution_count": 2,
   "metadata": {
    "id": "m2ZF_b2DQOav"
   },
   "outputs": [],
   "source": [
    "# def load_waveform(filepath):\n",
    "#     with open(filepath) as dataFile:\n",
    "#         data = dataFile.read()\n",
    "#         obj = data[data.find('{') : data.rfind('}')+1]\n",
    "#         jsonObj = json.loads(obj)\n",
    "        \n",
    "#         if jsonObj['data']:\n",
    "#             waveform_data = pd.DataFrame(jsonObj['data'])    \n",
    "#             return waveform_data\n",
    "#     return []"
   ]
  },
  {
   "cell_type": "code",
   "execution_count": 3,
   "metadata": {
    "id": "ULjLZomrQRN2"
   },
   "outputs": [],
   "source": [
    "file_dir = os.getcwd() + \"\\\\1001263.csv\"\n",
    "df = pd.read_csv(file_dir, index_col=0)\n",
    "X = df.iloc[:, :]"
   ]
  },
  {
   "cell_type": "code",
   "execution_count": 4,
   "metadata": {},
   "outputs": [
    {
     "data": {
      "text/html": [
       "<div>\n",
       "<style scoped>\n",
       "    .dataframe tbody tr th:only-of-type {\n",
       "        vertical-align: middle;\n",
       "    }\n",
       "\n",
       "    .dataframe tbody tr th {\n",
       "        vertical-align: top;\n",
       "    }\n",
       "\n",
       "    .dataframe thead th {\n",
       "        text-align: right;\n",
       "    }\n",
       "</style>\n",
       "<table border=\"1\" class=\"dataframe\">\n",
       "  <thead>\n",
       "    <tr style=\"text-align: right;\">\n",
       "      <th></th>\n",
       "      <th>0</th>\n",
       "      <th>1</th>\n",
       "      <th>2</th>\n",
       "      <th>3</th>\n",
       "      <th>4</th>\n",
       "      <th>5</th>\n",
       "    </tr>\n",
       "  </thead>\n",
       "  <tbody>\n",
       "    <tr>\n",
       "      <th>0</th>\n",
       "      <td>4.763986</td>\n",
       "      <td>1429</td>\n",
       "      <td>78</td>\n",
       "      <td>15241</td>\n",
       "      <td>0</td>\n",
       "      <td>0</td>\n",
       "    </tr>\n",
       "    <tr>\n",
       "      <th>1</th>\n",
       "      <td>4.852564</td>\n",
       "      <td>2160</td>\n",
       "      <td>79</td>\n",
       "      <td>15241</td>\n",
       "      <td>0</td>\n",
       "      <td>0</td>\n",
       "    </tr>\n",
       "    <tr>\n",
       "      <th>2</th>\n",
       "      <td>4.875874</td>\n",
       "      <td>-1469</td>\n",
       "      <td>81</td>\n",
       "      <td>15241</td>\n",
       "      <td>0</td>\n",
       "      <td>0</td>\n",
       "    </tr>\n",
       "    <tr>\n",
       "      <th>3</th>\n",
       "      <td>4.875874</td>\n",
       "      <td>1098</td>\n",
       "      <td>84</td>\n",
       "      <td>15241</td>\n",
       "      <td>0</td>\n",
       "      <td>0</td>\n",
       "    </tr>\n",
       "    <tr>\n",
       "      <th>4</th>\n",
       "      <td>4.789627</td>\n",
       "      <td>-4396</td>\n",
       "      <td>84</td>\n",
       "      <td>15241</td>\n",
       "      <td>0</td>\n",
       "      <td>0</td>\n",
       "    </tr>\n",
       "    <tr>\n",
       "      <th>...</th>\n",
       "      <td>...</td>\n",
       "      <td>...</td>\n",
       "      <td>...</td>\n",
       "      <td>...</td>\n",
       "      <td>...</td>\n",
       "      <td>...</td>\n",
       "    </tr>\n",
       "    <tr>\n",
       "      <th>14697</th>\n",
       "      <td>1.349650</td>\n",
       "      <td>-2841</td>\n",
       "      <td>333</td>\n",
       "      <td>15729</td>\n",
       "      <td>0</td>\n",
       "      <td>0</td>\n",
       "    </tr>\n",
       "    <tr>\n",
       "      <th>14698</th>\n",
       "      <td>1.434149</td>\n",
       "      <td>1417</td>\n",
       "      <td>335</td>\n",
       "      <td>15729</td>\n",
       "      <td>0</td>\n",
       "      <td>0</td>\n",
       "    </tr>\n",
       "    <tr>\n",
       "      <th>14699</th>\n",
       "      <td>1.554196</td>\n",
       "      <td>1326</td>\n",
       "      <td>335</td>\n",
       "      <td>15729</td>\n",
       "      <td>0</td>\n",
       "      <td>0</td>\n",
       "    </tr>\n",
       "    <tr>\n",
       "      <th>14700</th>\n",
       "      <td>1.704545</td>\n",
       "      <td>-1495</td>\n",
       "      <td>337</td>\n",
       "      <td>15729</td>\n",
       "      <td>0</td>\n",
       "      <td>0</td>\n",
       "    </tr>\n",
       "    <tr>\n",
       "      <th>14701</th>\n",
       "      <td>1.733683</td>\n",
       "      <td>664</td>\n",
       "      <td>338</td>\n",
       "      <td>15729</td>\n",
       "      <td>0</td>\n",
       "      <td>0</td>\n",
       "    </tr>\n",
       "  </tbody>\n",
       "</table>\n",
       "<p>14702 rows × 6 columns</p>\n",
       "</div>"
      ],
      "text/plain": [
       "              0     1    2      3  4  5\n",
       "0      4.763986  1429   78  15241  0  0\n",
       "1      4.852564  2160   79  15241  0  0\n",
       "2      4.875874 -1469   81  15241  0  0\n",
       "3      4.875874  1098   84  15241  0  0\n",
       "4      4.789627 -4396   84  15241  0  0\n",
       "...         ...   ...  ...    ... .. ..\n",
       "14697  1.349650 -2841  333  15729  0  0\n",
       "14698  1.434149  1417  335  15729  0  0\n",
       "14699  1.554196  1326  335  15729  0  0\n",
       "14700  1.704545 -1495  337  15729  0  0\n",
       "14701  1.733683   664  338  15729  0  0\n",
       "\n",
       "[14702 rows x 6 columns]"
      ]
     },
     "execution_count": 4,
     "metadata": {},
     "output_type": "execute_result"
    }
   ],
   "source": [
    "X"
   ]
  },
  {
   "cell_type": "code",
   "execution_count": 5,
   "metadata": {},
   "outputs": [],
   "source": [
    "# with open(file_dir + \"/negative/1361888.js\") as dataFile:\n",
    "#         data = dataFile.read()\n",
    "#         print(data)\n",
    "#         obj = data[data.find('{') : data.rfind('}')+1]\n",
    "#         obj = obj.replace(\")\", \"\")\n",
    "#         jsonObj = json.loads(obj)\n",
    "#         waveform_data = pd.DataFrame(jsonObj['data']) \n",
    "# waveform_data"
   ]
  },
  {
   "cell_type": "code",
   "execution_count": 6,
   "metadata": {
    "colab": {
     "base_uri": "https://localhost:8080/",
     "height": 765
    },
    "id": "_qdtS9jNQhS-",
    "outputId": "562da6a4-03a5-4e9c-8d4e-dfbaab150a24"
   },
   "outputs": [],
   "source": [
    "# count = 0\n",
    "# for file in file_neg:\n",
    "#     count+=1\n",
    "#     print(count)\n",
    "#     print(file)\n",
    "#     waveform = load_waveform(file_dir + \"/negative/\" + file)\n",
    "\n",
    "#     fig = plt.figure()\n",
    "#     fig.set_figwidth(20)     \n",
    "\n",
    "#     plt_1 = plt.subplot(1, 2, 1)    \n",
    "#     plt.plot(waveform[2], waveform[0], 'o')"
   ]
  },
  {
   "cell_type": "code",
   "execution_count": 7,
   "metadata": {
    "id": "YdhrwTZGQ4iD"
   },
   "outputs": [],
   "source": [
    "# count = 0\n",
    "# for file in file_pos:\n",
    "#     count+=1\n",
    "#     print(count)\n",
    "#     print(file)\n",
    "#     waveform = load_waveform(file_dir + \"/positive/\" + file)\n",
    "\n",
    "#     fig = plt.figure()\n",
    "#     fig.set_figwidth(20)     \n",
    "\n",
    "#     plt_1 = plt.subplot(1, 2, 1)    \n",
    "#     plt.plot(waveform[2], waveform[0], 'o')"
   ]
  },
  {
   "cell_type": "code",
   "execution_count": 8,
   "metadata": {},
   "outputs": [],
   "source": [
    "# count = 0\n",
    "# for file in file_unclassified:\n",
    "#     count+=1\n",
    "#     print(count)\n",
    "#     print(file)\n",
    "#     waveform = load_waveform(file_dir + \"/unclassified/\" + file)\n",
    "\n",
    "#     fig = plt.figure()\n",
    "#     fig.set_figwidth(20)     \n",
    "\n",
    "#     plt_1 = plt.subplot(1, 2, 1)    \n",
    "#     plt.plot(waveform[2], waveform[0], 'o')"
   ]
  },
  {
   "cell_type": "code",
   "execution_count": 9,
   "metadata": {},
   "outputs": [],
   "source": [
    "# df_neg = load_waveform(file_dir + \"negative/\" + file_neg[0])\n",
    "# df = df_neg.rename(\n",
    "#     columns={0: \"peak_amplitude\", 1: \"integral\", 2: \"phase_angle\",3 : \"cycle_number\", 4 : \"rise_time\",5: \"pulse_width\"}).reset_index(drop=True)\n",
    "# df"
   ]
  },
  {
   "cell_type": "code",
   "execution_count": 10,
   "metadata": {
    "scrolled": false
   },
   "outputs": [],
   "source": [
    "# waveform = load_waveform(file_dir + \"/negative/\" + file_neg[0])\n",
    "# fig = plt.figure()\n",
    "# fig.set_figwidth(20)     \n",
    "# plt_1 = plt.subplot(1, 2, 1)    \n",
    "# plt.plot(waveform[2], waveform[0], 'o')"
   ]
  },
  {
   "cell_type": "code",
   "execution_count": 11,
   "metadata": {},
   "outputs": [],
   "source": [
    "from sklearn.decomposition import PCA\n",
    "from sklearn.preprocessing import StandardScaler\n",
    "# Standardize the data\n",
    "scaler = StandardScaler()\n",
    "X_scaled = scaler.fit_transform(X.T)\n",
    "\n",
    "# Initialize pca with 1 components\n",
    "pca = PCA(n_components = 1)\n",
    "\n",
    "# Fit the data\n",
    "X_pca = pca.fit_transform(X_scaled)"
   ]
  },
  {
   "cell_type": "code",
   "execution_count": 12,
   "metadata": {
    "scrolled": false
   },
   "outputs": [
    {
     "name": "stdout",
     "output_type": "stream",
     "text": [
      "Shape of the new reduced data: (6, 1)\n"
     ]
    }
   ],
   "source": [
    "print(\"Shape of the new reduced data:\", X_pca.shape)"
   ]
  },
  {
   "cell_type": "code",
   "execution_count": 13,
   "metadata": {},
   "outputs": [
    {
     "data": {
      "text/plain": [
       "array([[-55.99743461, -50.22312752, -52.22426532, 268.4930604 ,\n",
       "        -55.3967019 , -54.65153105]])"
      ]
     },
     "execution_count": 13,
     "metadata": {},
     "output_type": "execute_result"
    }
   ],
   "source": [
    "X = X_pca.T\n",
    "X"
   ]
  },
  {
   "cell_type": "code",
   "execution_count": 14,
   "metadata": {
    "scrolled": true
   },
   "outputs": [],
   "source": [
    "# import matplotlib.pyplot as plt\n",
    "# plt.scatter(X[:, 0], X[:, 1])\n",
    "# plt.xlabel('PCA Component 1')\n",
    "# plt.ylabel('PCA Component 2')\n",
    "# plt.show()"
   ]
  },
  {
   "cell_type": "code",
   "execution_count": 15,
   "metadata": {
    "scrolled": false
   },
   "outputs": [
    {
     "data": {
      "image/png": "[encoded data removed]",
      "text/plain": [
       "<Figure size 640x480 with 1 Axes>"
      ]
     },
     "metadata": {},
     "output_type": "display_data"
    }
   ],
   "source": [
    "import numpy as np\n",
    "explained_variances = pca.explained_variance_ratio_\n",
    "cumulative_explained_variances = np.cumsum(explained_variances)\n",
    "plt.plot(cumulative_explained_variances)\n",
    "plt.xlabel('Number of principal components')\n",
    "plt.ylabel('Cumulative explained variance')\n",
    "plt.show()"
   ]
  },
  {
   "cell_type": "code",
   "execution_count": null,
   "metadata": {},
   "outputs": [],
   "source": []
  }
 ],
 "metadata": {
  "colab": {
   "provenance": []
  },
  "kernelspec": {
   "display_name": "Python 3 (ipykernel)",
   "language": "python",
   "name": "python3"
  },
  "language_info": {
   "codemirror_mode": {
    "name": "ipython",
    "version": 3
   },
   "file_extension": ".py",
   "mimetype": "text/x-python",
   "name": "python",
   "nbconvert_exporter": "python",
   "pygments_lexer": "ipython3",
   "version": "3.9.13"
  }
 },
 "nbformat": 4,
 "nbformat_minor": 1
}
