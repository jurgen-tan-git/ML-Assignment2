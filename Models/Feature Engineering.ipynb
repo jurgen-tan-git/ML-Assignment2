{
 "cells": [
  {
   "cell_type": "markdown",
   "metadata": {},
   "source": [
    "## Importing the libraries"
   ]
  },
  {
   "cell_type": "code",
   "execution_count": 1,
   "metadata": {},
   "outputs": [],
   "source": [
    "import numpy as np\n",
    "import matplotlib.pyplot as plt\n",
    "import pandas as pd\n",
    "import json\n",
    "import os"
   ]
  },
  {
   "cell_type": "markdown",
   "metadata": {},
   "source": [
    "## Importing the dataset"
   ]
  },
  {
   "cell_type": "code",
   "execution_count": 2,
   "metadata": {},
   "outputs": [],
   "source": [
    "file_dir = os.getcwd() + \"\\\\Data\\\\df_all.csv\"\n",
    "dataset = pd.read_csv(file_dir)\n",
    "X = dataset.iloc[:, :-1]\n",
    "y = dataset.iloc[:, -1]"
   ]
  },
  {
   "cell_type": "markdown",
   "metadata": {},
   "source": [
    "## Encoding Categorical Data"
   ]
  },
  {
   "cell_type": "code",
   "execution_count": 3,
   "metadata": {},
   "outputs": [],
   "source": [
    "from sklearn.preprocessing import LabelEncoder"
   ]
  },
  {
   "cell_type": "code",
   "execution_count": 4,
   "metadata": {},
   "outputs": [],
   "source": [
    "le = LabelEncoder()"
   ]
  },
  {
   "cell_type": "code",
   "execution_count": 5,
   "metadata": {},
   "outputs": [],
   "source": [
    "y = le.fit_transform(y)"
   ]
  },
  {
   "cell_type": "markdown",
   "metadata": {},
   "source": [
    "## Creating the 2 seperate dataframes with seperate features"
   ]
  },
  {
   "cell_type": "code",
   "execution_count": 6,
   "metadata": {},
   "outputs": [],
   "source": [
    "new_df = pd.DataFrame()\n",
    "new_df[\"peak_amplitude\"] = X.iloc[:,0]\n",
    "new_df[\"rise_time\"] = X.iloc[:,4]\n",
    "new_df[\"pulse_width\"] = X.iloc[:,5]\n",
    "\n",
    "new_df2 = pd.DataFrame()\n",
    "new_df2[\"phase_angle\"] = X.iloc[:,2]\n",
    "new_df2[\"integral\"] = X.iloc[:,1]\n",
    "new_df2[\"cycle_number\"] = X.iloc[:,3]"
   ]
  },
  {
   "cell_type": "markdown",
   "metadata": {},
   "source": [
    "## Combining the features into new features"
   ]
  },
  {
   "cell_type": "code",
   "execution_count": 7,
   "metadata": {},
   "outputs": [],
   "source": [
    "from sklearn.decomposition import KernelPCA\n",
    "from sklearn.decomposition import PCA\n",
    "from sklearn.preprocessing import StandardScaler\n",
    "# Standardize the data\n",
    "scaler = StandardScaler()\n",
    "X_scaled = scaler.fit_transform(new_df)\n",
    "X_scaled2 = scaler.fit_transform(new_df2)\n",
    "\n",
    "# Initialize pca with 1 components\n",
    "kpca = KernelPCA(n_components=1, kernel='cosine', gamma=10)\n",
    "kpca2 = KernelPCA(n_components=1, kernel='poly', gamma=10)\n",
    "# pca = PCA(n_components=1)\n",
    "\n",
    "# Fit the data\n",
    "X_kpca = kpca.fit_transform(X_scaled)\n",
    "X_kpca2 = kpca2.fit_transform(X_scaled2)\n",
    "# X_pca = pca.fit_transform(X_scaled)"
   ]
  },
  {
   "cell_type": "markdown",
   "metadata": {},
   "source": [
    "## Adding the new features to the dataframe"
   ]
  },
  {
   "cell_type": "code",
   "execution_count": 8,
   "metadata": {},
   "outputs": [],
   "source": [
    "X[\"new_feature\"] = X_kpca\n",
    "X[\"new_feature2\"] = X_kpca2"
   ]
  },
  {
   "cell_type": "markdown",
   "metadata": {},
   "source": [
    "## Saving the new dataframe"
   ]
  },
  {
   "cell_type": "code",
   "execution_count": 9,
   "metadata": {},
   "outputs": [],
   "source": [
    "X[\"type\"] = y\n",
    "X.to_csv(os.getcwd() + \"\\\\Data\\\\df_full_features.csv\",\n",
    "        header=['peak_amplitude', 'integral', 'phase_angle','cycle_number','rise_time', 'pulse_width', 'new_feature', 'new_feature2', 'type'], \n",
    "        index=False)"
   ]
  }
 ],
 "metadata": {
  "colab": {
   "provenance": []
  },
  "kernelspec": {
   "display_name": "Python 3 (ipykernel)",
   "language": "python",
   "name": "python3"
  },
  "language_info": {
   "codemirror_mode": {
    "name": "ipython",
    "version": 3
   },
   "file_extension": ".py",
   "mimetype": "text/x-python",
   "name": "python",
   "nbconvert_exporter": "python",
   "pygments_lexer": "ipython3",
   "version": "3.9.13"
  }
 },
 "nbformat": 4,
 "nbformat_minor": 1
}
