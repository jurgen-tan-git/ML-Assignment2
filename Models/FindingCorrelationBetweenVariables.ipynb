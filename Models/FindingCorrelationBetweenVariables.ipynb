{
 "cells": [
  {
   "cell_type": "markdown",
   "metadata": {},
   "source": [
    "## Importing the libraries"
   ]
  },
  {
   "cell_type": "code",
   "execution_count": 1,
   "metadata": {},
   "outputs": [],
   "source": [
    "import numpy as np\n",
    "import matplotlib.pyplot as plt\n",
    "import pandas as pd\n",
    "import json\n",
    "import os"
   ]
  },
  {
   "cell_type": "markdown",
   "metadata": {},
   "source": [
    "## Importing the dataset"
   ]
  },
  {
   "cell_type": "code",
   "execution_count": 2,
   "metadata": {},
   "outputs": [],
   "source": [
    "file_dir = os.getcwd() + \"\\\\df_all.csv\"\n",
    "dataset = pd.read_csv(file_dir)\n",
    "X = dataset.iloc[:, :-1]\n",
    "y = dataset.iloc[:, -1]"
   ]
  },
  {
   "cell_type": "code",
   "execution_count": 3,
   "metadata": {},
   "outputs": [
    {
     "data": {
      "text/html": [
       "<div>\n",
       "<style scoped>\n",
       "    .dataframe tbody tr th:only-of-type {\n",
       "        vertical-align: middle;\n",
       "    }\n",
       "\n",
       "    .dataframe tbody tr th {\n",
       "        vertical-align: top;\n",
       "    }\n",
       "\n",
       "    .dataframe thead th {\n",
       "        text-align: right;\n",
       "    }\n",
       "</style>\n",
       "<table border=\"1\" class=\"dataframe\">\n",
       "  <thead>\n",
       "    <tr style=\"text-align: right;\">\n",
       "      <th></th>\n",
       "      <th>peak_amplitude</th>\n",
       "      <th>integral</th>\n",
       "      <th>phase_angle</th>\n",
       "      <th>cycle_number</th>\n",
       "      <th>rise_time</th>\n",
       "      <th>pulse_width</th>\n",
       "    </tr>\n",
       "  </thead>\n",
       "  <tbody>\n",
       "    <tr>\n",
       "      <th>0</th>\n",
       "      <td>-58.530580</td>\n",
       "      <td>-39.367594</td>\n",
       "      <td>-55.401772</td>\n",
       "      <td>269.148817</td>\n",
       "      <td>-58.205164</td>\n",
       "      <td>-57.643707</td>\n",
       "    </tr>\n",
       "    <tr>\n",
       "      <th>1</th>\n",
       "      <td>-28.500573</td>\n",
       "      <td>-148.857548</td>\n",
       "      <td>-26.708968</td>\n",
       "      <td>261.213459</td>\n",
       "      <td>-28.575458</td>\n",
       "      <td>-28.570913</td>\n",
       "    </tr>\n",
       "    <tr>\n",
       "      <th>2</th>\n",
       "      <td>-28.180181</td>\n",
       "      <td>-21.407660</td>\n",
       "      <td>-27.556941</td>\n",
       "      <td>133.389387</td>\n",
       "      <td>-28.098914</td>\n",
       "      <td>-28.145693</td>\n",
       "    </tr>\n",
       "    <tr>\n",
       "      <th>3</th>\n",
       "      <td>-54.233660</td>\n",
       "      <td>-43.214370</td>\n",
       "      <td>-51.485712</td>\n",
       "      <td>257.398127</td>\n",
       "      <td>-54.306465</td>\n",
       "      <td>-54.157919</td>\n",
       "    </tr>\n",
       "    <tr>\n",
       "      <th>4</th>\n",
       "      <td>-42.682480</td>\n",
       "      <td>-53.075543</td>\n",
       "      <td>-39.978731</td>\n",
       "      <td>221.014658</td>\n",
       "      <td>-42.647502</td>\n",
       "      <td>-42.630402</td>\n",
       "    </tr>\n",
       "    <tr>\n",
       "      <th>...</th>\n",
       "      <td>...</td>\n",
       "      <td>...</td>\n",
       "      <td>...</td>\n",
       "      <td>...</td>\n",
       "      <td>...</td>\n",
       "      <td>...</td>\n",
       "    </tr>\n",
       "    <tr>\n",
       "      <th>349</th>\n",
       "      <td>-61.604708</td>\n",
       "      <td>-48.346873</td>\n",
       "      <td>-59.938636</td>\n",
       "      <td>292.980809</td>\n",
       "      <td>-61.589891</td>\n",
       "      <td>-61.500701</td>\n",
       "    </tr>\n",
       "    <tr>\n",
       "      <th>350</th>\n",
       "      <td>-87.779407</td>\n",
       "      <td>65.405605</td>\n",
       "      <td>-86.670108</td>\n",
       "      <td>284.525324</td>\n",
       "      <td>-87.692400</td>\n",
       "      <td>-87.789015</td>\n",
       "    </tr>\n",
       "    <tr>\n",
       "      <th>351</th>\n",
       "      <td>-74.319017</td>\n",
       "      <td>-20.659884</td>\n",
       "      <td>-72.685107</td>\n",
       "      <td>314.769197</td>\n",
       "      <td>-73.395289</td>\n",
       "      <td>-73.709899</td>\n",
       "    </tr>\n",
       "    <tr>\n",
       "      <th>352</th>\n",
       "      <td>-37.902093</td>\n",
       "      <td>214.927648</td>\n",
       "      <td>-36.287730</td>\n",
       "      <td>-65.515717</td>\n",
       "      <td>-37.683912</td>\n",
       "      <td>-37.538196</td>\n",
       "    </tr>\n",
       "    <tr>\n",
       "      <th>353</th>\n",
       "      <td>-56.217655</td>\n",
       "      <td>176.028575</td>\n",
       "      <td>-55.604411</td>\n",
       "      <td>48.317363</td>\n",
       "      <td>-56.283577</td>\n",
       "      <td>-56.240295</td>\n",
       "    </tr>\n",
       "  </tbody>\n",
       "</table>\n",
       "<p>354 rows × 6 columns</p>\n",
       "</div>"
      ],
      "text/plain": [
       "     peak_amplitude    integral  phase_angle  cycle_number  rise_time  \\\n",
       "0        -58.530580  -39.367594   -55.401772    269.148817 -58.205164   \n",
       "1        -28.500573 -148.857548   -26.708968    261.213459 -28.575458   \n",
       "2        -28.180181  -21.407660   -27.556941    133.389387 -28.098914   \n",
       "3        -54.233660  -43.214370   -51.485712    257.398127 -54.306465   \n",
       "4        -42.682480  -53.075543   -39.978731    221.014658 -42.647502   \n",
       "..              ...         ...          ...           ...        ...   \n",
       "349      -61.604708  -48.346873   -59.938636    292.980809 -61.589891   \n",
       "350      -87.779407   65.405605   -86.670108    284.525324 -87.692400   \n",
       "351      -74.319017  -20.659884   -72.685107    314.769197 -73.395289   \n",
       "352      -37.902093  214.927648   -36.287730    -65.515717 -37.683912   \n",
       "353      -56.217655  176.028575   -55.604411     48.317363 -56.283577   \n",
       "\n",
       "     pulse_width  \n",
       "0     -57.643707  \n",
       "1     -28.570913  \n",
       "2     -28.145693  \n",
       "3     -54.157919  \n",
       "4     -42.630402  \n",
       "..           ...  \n",
       "349   -61.500701  \n",
       "350   -87.789015  \n",
       "351   -73.709899  \n",
       "352   -37.538196  \n",
       "353   -56.240295  \n",
       "\n",
       "[354 rows x 6 columns]"
      ]
     },
     "execution_count": 3,
     "metadata": {},
     "output_type": "execute_result"
    }
   ],
   "source": [
    "X"
   ]
  },
  {
   "cell_type": "markdown",
   "metadata": {},
   "source": [
    "## Encoding Categorical Data"
   ]
  },
  {
   "cell_type": "code",
   "execution_count": 4,
   "metadata": {},
   "outputs": [],
   "source": [
    "from sklearn.preprocessing import LabelEncoder"
   ]
  },
  {
   "cell_type": "code",
   "execution_count": 5,
   "metadata": {},
   "outputs": [],
   "source": [
    "le = LabelEncoder()"
   ]
  },
  {
   "cell_type": "code",
   "execution_count": 6,
   "metadata": {},
   "outputs": [],
   "source": [
    "y = le.fit_transform(y)"
   ]
  },
  {
   "cell_type": "markdown",
   "metadata": {},
   "source": [
    "## Visualing Correlation between variables"
   ]
  },
  {
   "cell_type": "code",
   "execution_count": 7,
   "metadata": {},
   "outputs": [
    {
     "data": {
      "text/plain": [
       "<AxesSubplot:>"
      ]
     },
     "execution_count": 7,
     "metadata": {},
     "output_type": "execute_result"
    },
    {
     "data": {
      "image/png": "[encoded data removed]",
      "text/plain": [
       "<Figure size 640x480 with 1 Axes>"
      ]
     },
     "metadata": {},
     "output_type": "display_data"
    }
   ],
   "source": [
    "import seaborn as sns\n",
    "sns.heatmap(X.corr() > 0.95, annot=True, cbar=False)"
   ]
  },
  {
   "cell_type": "code",
   "execution_count": 8,
   "metadata": {},
   "outputs": [
    {
     "name": "stdout",
     "output_type": "stream",
     "text": [
      "[0 5]\n"
     ]
    }
   ],
   "source": [
    "from sklearn.feature_selection import SelectKBest, mutual_info_classif\n",
    "selector = SelectKBest(mutual_info_classif, k=2)\n",
    "selector.fit_transform(X, y)\n",
    "print(selector.get_support(indices=True))"
   ]
  }
 ],
 "metadata": {
  "colab": {
   "provenance": []
  },
  "kernelspec": {
   "display_name": "Python 3 (ipykernel)",
   "language": "python",
   "name": "python3"
  },
  "language_info": {
   "codemirror_mode": {
    "name": "ipython",
    "version": 3
   },
   "file_extension": ".py",
   "mimetype": "text/x-python",
   "name": "python",
   "nbconvert_exporter": "python",
   "pygments_lexer": "ipython3",
   "version": "3.9.13"
  }
 },
 "nbformat": 4,
 "nbformat_minor": 1
}
