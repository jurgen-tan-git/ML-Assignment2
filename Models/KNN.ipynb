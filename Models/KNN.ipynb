{
 "cells": [
  {
   "cell_type": "code",
   "execution_count": 1,
   "id": "ab4728a1",
   "metadata": {},
   "outputs": [],
   "source": [
    "import pandas as pd\n",
    "import matplotlib.pyplot as plt\n",
    "import math\n",
    "import numpy as np\n",
    "import os \n",
    "\n",
    "from sklearn.neighbors import KNeighborsClassifier, NearestNeighbors\n",
    "from sklearn.model_selection import train_test_split\n",
    "from sklearn import preprocessing\n",
    "\n",
    "from sklearn.metrics import confusion_matrix\n",
    "from sklearn.metrics import accuracy_score\n",
    "from sklearn.metrics import f1_score"
   ]
  },
  {
   "cell_type": "code",
   "execution_count": 2,
   "id": "871ec4df",
   "metadata": {},
   "outputs": [
    {
     "data": {
      "text/html": [
       "<div>\n",
       "<style scoped>\n",
       "    .dataframe tbody tr th:only-of-type {\n",
       "        vertical-align: middle;\n",
       "    }\n",
       "\n",
       "    .dataframe tbody tr th {\n",
       "        vertical-align: top;\n",
       "    }\n",
       "\n",
       "    .dataframe thead th {\n",
       "        text-align: right;\n",
       "    }\n",
       "</style>\n",
       "<table border=\"1\" class=\"dataframe\">\n",
       "  <thead>\n",
       "    <tr style=\"text-align: right;\">\n",
       "      <th></th>\n",
       "      <th>peak_amplitude</th>\n",
       "      <th>integral</th>\n",
       "      <th>phase_angle</th>\n",
       "      <th>cycle_number</th>\n",
       "      <th>rise_time</th>\n",
       "      <th>pulse_width</th>\n",
       "      <th>type</th>\n",
       "    </tr>\n",
       "  </thead>\n",
       "  <tbody>\n",
       "    <tr>\n",
       "      <th>0</th>\n",
       "      <td>0.956876</td>\n",
       "      <td>-4896</td>\n",
       "      <td>163</td>\n",
       "      <td>32698</td>\n",
       "      <td>0</td>\n",
       "      <td>0</td>\n",
       "      <td>neg</td>\n",
       "    </tr>\n",
       "    <tr>\n",
       "      <th>1</th>\n",
       "      <td>3.558275</td>\n",
       "      <td>-9372</td>\n",
       "      <td>152</td>\n",
       "      <td>31507</td>\n",
       "      <td>0</td>\n",
       "      <td>0</td>\n",
       "      <td>pos</td>\n",
       "    </tr>\n",
       "    <tr>\n",
       "      <th>2</th>\n",
       "      <td>16.040210</td>\n",
       "      <td>20326</td>\n",
       "      <td>113</td>\n",
       "      <td>35611</td>\n",
       "      <td>0</td>\n",
       "      <td>32</td>\n",
       "      <td>neg</td>\n",
       "    </tr>\n",
       "    <tr>\n",
       "      <th>3</th>\n",
       "      <td>17.296037</td>\n",
       "      <td>18912</td>\n",
       "      <td>221</td>\n",
       "      <td>32734</td>\n",
       "      <td>0</td>\n",
       "      <td>0</td>\n",
       "      <td>neg</td>\n",
       "    </tr>\n",
       "    <tr>\n",
       "      <th>4</th>\n",
       "      <td>6.600233</td>\n",
       "      <td>-17240</td>\n",
       "      <td>126</td>\n",
       "      <td>28314</td>\n",
       "      <td>0</td>\n",
       "      <td>0</td>\n",
       "      <td>pos</td>\n",
       "    </tr>\n",
       "    <tr>\n",
       "      <th>...</th>\n",
       "      <td>...</td>\n",
       "      <td>...</td>\n",
       "      <td>...</td>\n",
       "      <td>...</td>\n",
       "      <td>...</td>\n",
       "      <td>...</td>\n",
       "      <td>...</td>\n",
       "    </tr>\n",
       "    <tr>\n",
       "      <th>5286175</th>\n",
       "      <td>12.029138</td>\n",
       "      <td>3151</td>\n",
       "      <td>275</td>\n",
       "      <td>15542</td>\n",
       "      <td>0</td>\n",
       "      <td>0</td>\n",
       "      <td>pos</td>\n",
       "    </tr>\n",
       "    <tr>\n",
       "      <th>5286176</th>\n",
       "      <td>9.960956</td>\n",
       "      <td>-17648</td>\n",
       "      <td>118</td>\n",
       "      <td>38209</td>\n",
       "      <td>0</td>\n",
       "      <td>0</td>\n",
       "      <td>pos</td>\n",
       "    </tr>\n",
       "    <tr>\n",
       "      <th>5286177</th>\n",
       "      <td>2.715035</td>\n",
       "      <td>2542</td>\n",
       "      <td>158</td>\n",
       "      <td>22870</td>\n",
       "      <td>0</td>\n",
       "      <td>0</td>\n",
       "      <td>neg</td>\n",
       "    </tr>\n",
       "    <tr>\n",
       "      <th>5286178</th>\n",
       "      <td>3.945221</td>\n",
       "      <td>3221</td>\n",
       "      <td>127</td>\n",
       "      <td>24506</td>\n",
       "      <td>0</td>\n",
       "      <td>0</td>\n",
       "      <td>neg</td>\n",
       "    </tr>\n",
       "    <tr>\n",
       "      <th>5286179</th>\n",
       "      <td>1.812937</td>\n",
       "      <td>1227</td>\n",
       "      <td>36</td>\n",
       "      <td>20297</td>\n",
       "      <td>1</td>\n",
       "      <td>17</td>\n",
       "      <td>pos</td>\n",
       "    </tr>\n",
       "  </tbody>\n",
       "</table>\n",
       "<p>5286180 rows × 7 columns</p>\n",
       "</div>"
      ],
      "text/plain": [
       "         peak_amplitude  integral  phase_angle  cycle_number  rise_time  \\\n",
       "0              0.956876     -4896          163         32698          0   \n",
       "1              3.558275     -9372          152         31507          0   \n",
       "2             16.040210     20326          113         35611          0   \n",
       "3             17.296037     18912          221         32734          0   \n",
       "4              6.600233    -17240          126         28314          0   \n",
       "...                 ...       ...          ...           ...        ...   \n",
       "5286175       12.029138      3151          275         15542          0   \n",
       "5286176        9.960956    -17648          118         38209          0   \n",
       "5286177        2.715035      2542          158         22870          0   \n",
       "5286178        3.945221      3221          127         24506          0   \n",
       "5286179        1.812937      1227           36         20297          1   \n",
       "\n",
       "         pulse_width type  \n",
       "0                  0  neg  \n",
       "1                  0  pos  \n",
       "2                 32  neg  \n",
       "3                  0  neg  \n",
       "4                  0  pos  \n",
       "...              ...  ...  \n",
       "5286175            0  pos  \n",
       "5286176            0  pos  \n",
       "5286177            0  neg  \n",
       "5286178            0  neg  \n",
       "5286179           17  pos  \n",
       "\n",
       "[5286180 rows x 7 columns]"
      ]
     },
     "execution_count": 2,
     "metadata": {},
     "output_type": "execute_result"
    }
   ],
   "source": [
    "df = pd.read_csv(os.getcwd() +\"/df_all.csv\")\n",
    "df"
   ]
  },
  {
   "cell_type": "code",
   "execution_count": 3,
   "id": "42d645a1",
   "metadata": {},
   "outputs": [],
   "source": [
    "test = df[:1000000]"
   ]
  },
  {
   "cell_type": "code",
   "execution_count": 4,
   "id": "623ee6c3",
   "metadata": {},
   "outputs": [
    {
     "data": {
      "text/html": [
       "<div>\n",
       "<style scoped>\n",
       "    .dataframe tbody tr th:only-of-type {\n",
       "        vertical-align: middle;\n",
       "    }\n",
       "\n",
       "    .dataframe tbody tr th {\n",
       "        vertical-align: top;\n",
       "    }\n",
       "\n",
       "    .dataframe thead th {\n",
       "        text-align: right;\n",
       "    }\n",
       "</style>\n",
       "<table border=\"1\" class=\"dataframe\">\n",
       "  <thead>\n",
       "    <tr style=\"text-align: right;\">\n",
       "      <th></th>\n",
       "      <th>peak_amplitude</th>\n",
       "      <th>integral</th>\n",
       "      <th>phase_angle</th>\n",
       "      <th>cycle_number</th>\n",
       "      <th>rise_time</th>\n",
       "      <th>pulse_width</th>\n",
       "      <th>type</th>\n",
       "    </tr>\n",
       "  </thead>\n",
       "  <tbody>\n",
       "    <tr>\n",
       "      <th>0</th>\n",
       "      <td>0.956876</td>\n",
       "      <td>-4896</td>\n",
       "      <td>163</td>\n",
       "      <td>32698</td>\n",
       "      <td>0</td>\n",
       "      <td>0</td>\n",
       "      <td>neg</td>\n",
       "    </tr>\n",
       "    <tr>\n",
       "      <th>1</th>\n",
       "      <td>3.558275</td>\n",
       "      <td>-9372</td>\n",
       "      <td>152</td>\n",
       "      <td>31507</td>\n",
       "      <td>0</td>\n",
       "      <td>0</td>\n",
       "      <td>pos</td>\n",
       "    </tr>\n",
       "    <tr>\n",
       "      <th>2</th>\n",
       "      <td>16.040210</td>\n",
       "      <td>20326</td>\n",
       "      <td>113</td>\n",
       "      <td>35611</td>\n",
       "      <td>0</td>\n",
       "      <td>32</td>\n",
       "      <td>neg</td>\n",
       "    </tr>\n",
       "    <tr>\n",
       "      <th>3</th>\n",
       "      <td>17.296037</td>\n",
       "      <td>18912</td>\n",
       "      <td>221</td>\n",
       "      <td>32734</td>\n",
       "      <td>0</td>\n",
       "      <td>0</td>\n",
       "      <td>neg</td>\n",
       "    </tr>\n",
       "    <tr>\n",
       "      <th>4</th>\n",
       "      <td>6.600233</td>\n",
       "      <td>-17240</td>\n",
       "      <td>126</td>\n",
       "      <td>28314</td>\n",
       "      <td>0</td>\n",
       "      <td>0</td>\n",
       "      <td>pos</td>\n",
       "    </tr>\n",
       "    <tr>\n",
       "      <th>...</th>\n",
       "      <td>...</td>\n",
       "      <td>...</td>\n",
       "      <td>...</td>\n",
       "      <td>...</td>\n",
       "      <td>...</td>\n",
       "      <td>...</td>\n",
       "      <td>...</td>\n",
       "    </tr>\n",
       "    <tr>\n",
       "      <th>999995</th>\n",
       "      <td>7.529138</td>\n",
       "      <td>-10323</td>\n",
       "      <td>307</td>\n",
       "      <td>39090</td>\n",
       "      <td>0</td>\n",
       "      <td>0</td>\n",
       "      <td>pos</td>\n",
       "    </tr>\n",
       "    <tr>\n",
       "      <th>999996</th>\n",
       "      <td>17.898019</td>\n",
       "      <td>-71704</td>\n",
       "      <td>332</td>\n",
       "      <td>32752</td>\n",
       "      <td>0</td>\n",
       "      <td>4</td>\n",
       "      <td>neg</td>\n",
       "    </tr>\n",
       "    <tr>\n",
       "      <th>999997</th>\n",
       "      <td>23.417249</td>\n",
       "      <td>11057</td>\n",
       "      <td>50</td>\n",
       "      <td>33021</td>\n",
       "      <td>0</td>\n",
       "      <td>0</td>\n",
       "      <td>pos</td>\n",
       "    </tr>\n",
       "    <tr>\n",
       "      <th>999998</th>\n",
       "      <td>-0.027063</td>\n",
       "      <td>1471</td>\n",
       "      <td>315</td>\n",
       "      <td>35099</td>\n",
       "      <td>23</td>\n",
       "      <td>0</td>\n",
       "      <td>pos</td>\n",
       "    </tr>\n",
       "    <tr>\n",
       "      <th>999999</th>\n",
       "      <td>13.877622</td>\n",
       "      <td>-28313</td>\n",
       "      <td>161</td>\n",
       "      <td>6175</td>\n",
       "      <td>0</td>\n",
       "      <td>398</td>\n",
       "      <td>neg</td>\n",
       "    </tr>\n",
       "  </tbody>\n",
       "</table>\n",
       "<p>1000000 rows × 7 columns</p>\n",
       "</div>"
      ],
      "text/plain": [
       "        peak_amplitude  integral  phase_angle  cycle_number  rise_time  \\\n",
       "0             0.956876     -4896          163         32698          0   \n",
       "1             3.558275     -9372          152         31507          0   \n",
       "2            16.040210     20326          113         35611          0   \n",
       "3            17.296037     18912          221         32734          0   \n",
       "4             6.600233    -17240          126         28314          0   \n",
       "...                ...       ...          ...           ...        ...   \n",
       "999995        7.529138    -10323          307         39090          0   \n",
       "999996       17.898019    -71704          332         32752          0   \n",
       "999997       23.417249     11057           50         33021          0   \n",
       "999998       -0.027063      1471          315         35099         23   \n",
       "999999       13.877622    -28313          161          6175          0   \n",
       "\n",
       "        pulse_width type  \n",
       "0                 0  neg  \n",
       "1                 0  pos  \n",
       "2                32  neg  \n",
       "3                 0  neg  \n",
       "4                 0  pos  \n",
       "...             ...  ...  \n",
       "999995            0  pos  \n",
       "999996            4  neg  \n",
       "999997            0  pos  \n",
       "999998            0  pos  \n",
       "999999          398  neg  \n",
       "\n",
       "[1000000 rows x 7 columns]"
      ]
     },
     "execution_count": 4,
     "metadata": {},
     "output_type": "execute_result"
    }
   ],
   "source": [
    "test"
   ]
  },
  {
   "cell_type": "code",
   "execution_count": 5,
   "id": "db62568b",
   "metadata": {},
   "outputs": [],
   "source": [
    "le = preprocessing.LabelEncoder()\n",
    "\n",
    "X = test.iloc[:,:-1]\n",
    "y = le.fit_transform(test.iloc[:,-1])\n"
   ]
  },
  {
   "cell_type": "code",
   "execution_count": 6,
   "id": "66fe11e9",
   "metadata": {},
   "outputs": [],
   "source": [
    "X_train, X_test, y_train, y_test = train_test_split(X, y, test_size=0.2, random_state = 0)\n"
   ]
  },
  {
   "cell_type": "code",
   "execution_count": 7,
   "id": "40c5f967",
   "metadata": {
    "scrolled": true
   },
   "outputs": [
    {
     "data": {
      "text/plain": [
       "1001"
      ]
     },
     "execution_count": 7,
     "metadata": {},
     "output_type": "execute_result"
    }
   ],
   "source": [
    "n = int(math.sqrt(X.shape[0])) + 1 if (int(math.sqrt(X.shape[0])) % 2 == 0) else int(math.sqrt(X.shape[0]))\n",
    "n"
   ]
  },
  {
   "cell_type": "markdown",
   "id": "1ae5f4ca",
   "metadata": {},
   "source": [
    "## Supervised KNN"
   ]
  },
  {
   "cell_type": "code",
   "execution_count": 8,
   "id": "2c2e21c5",
   "metadata": {
    "scrolled": true
   },
   "outputs": [
    {
     "data": {
      "text/html": [
       "<style>#sk-container-id-1 {color: black;background-color: white;}#sk-container-id-1 pre{padding: 0;}#sk-container-id-1 div.sk-toggleable {background-color: white;}#sk-container-id-1 label.sk-toggleable__label {cursor: pointer;display: block;width: 100%;margin-bottom: 0;padding: 0.3em;box-sizing: border-box;text-align: center;}#sk-container-id-1 label.sk-toggleable__label-arrow:before {content: \"▸\";float: left;margin-right: 0.25em;color: #696969;}#sk-container-id-1 label.sk-toggleable__label-arrow:hover:before {color: black;}#sk-container-id-1 div.sk-estimator:hover label.sk-toggleable__label-arrow:before {color: black;}#sk-container-id-1 div.sk-toggleable__content {max-height: 0;max-width: 0;overflow: hidden;text-align: left;background-color: #f0f8ff;}#sk-container-id-1 div.sk-toggleable__content pre {margin: 0.2em;color: black;border-radius: 0.25em;background-color: #f0f8ff;}#sk-container-id-1 input.sk-toggleable__control:checked~div.sk-toggleable__content {max-height: 200px;max-width: 100%;overflow: auto;}#sk-container-id-1 input.sk-toggleable__control:checked~label.sk-toggleable__label-arrow:before {content: \"▾\";}#sk-container-id-1 div.sk-estimator input.sk-toggleable__control:checked~label.sk-toggleable__label {background-color: #d4ebff;}#sk-container-id-1 div.sk-label input.sk-toggleable__control:checked~label.sk-toggleable__label {background-color: #d4ebff;}#sk-container-id-1 input.sk-hidden--visually {border: 0;clip: rect(1px 1px 1px 1px);clip: rect(1px, 1px, 1px, 1px);height: 1px;margin: -1px;overflow: hidden;padding: 0;position: absolute;width: 1px;}#sk-container-id-1 div.sk-estimator {font-family: monospace;background-color: #f0f8ff;border: 1px dotted black;border-radius: 0.25em;box-sizing: border-box;margin-bottom: 0.5em;}#sk-container-id-1 div.sk-estimator:hover {background-color: #d4ebff;}#sk-container-id-1 div.sk-parallel-item::after {content: \"\";width: 100%;border-bottom: 1px solid gray;flex-grow: 1;}#sk-container-id-1 div.sk-label:hover label.sk-toggleable__label {background-color: #d4ebff;}#sk-container-id-1 div.sk-serial::before {content: \"\";position: absolute;border-left: 1px solid gray;box-sizing: border-box;top: 0;bottom: 0;left: 50%;z-index: 0;}#sk-container-id-1 div.sk-serial {display: flex;flex-direction: column;align-items: center;background-color: white;padding-right: 0.2em;padding-left: 0.2em;position: relative;}#sk-container-id-1 div.sk-item {position: relative;z-index: 1;}#sk-container-id-1 div.sk-parallel {display: flex;align-items: stretch;justify-content: center;background-color: white;position: relative;}#sk-container-id-1 div.sk-item::before, #sk-container-id-1 div.sk-parallel-item::before {content: \"\";position: absolute;border-left: 1px solid gray;box-sizing: border-box;top: 0;bottom: 0;left: 50%;z-index: -1;}#sk-container-id-1 div.sk-parallel-item {display: flex;flex-direction: column;z-index: 1;position: relative;background-color: white;}#sk-container-id-1 div.sk-parallel-item:first-child::after {align-self: flex-end;width: 50%;}#sk-container-id-1 div.sk-parallel-item:last-child::after {align-self: flex-start;width: 50%;}#sk-container-id-1 div.sk-parallel-item:only-child::after {width: 0;}#sk-container-id-1 div.sk-dashed-wrapped {border: 1px dashed gray;margin: 0 0.4em 0.5em 0.4em;box-sizing: border-box;padding-bottom: 0.4em;background-color: white;}#sk-container-id-1 div.sk-label label {font-family: monospace;font-weight: bold;display: inline-block;line-height: 1.2em;}#sk-container-id-1 div.sk-label-container {text-align: center;}#sk-container-id-1 div.sk-container {/* jupyter's `normalize.less` sets `[hidden] { display: none; }` but bootstrap.min.css set `[hidden] { display: none !important; }` so we also need the `!important` here to be able to override the default hidden behavior on the sphinx rendered scikit-learn.org. See: https://github.com/scikit-learn/scikit-learn/issues/21755 */display: inline-block !important;position: relative;}#sk-container-id-1 div.sk-text-repr-fallback {display: none;}</style><div id=\"sk-container-id-1\" class=\"sk-top-container\"><div class=\"sk-text-repr-fallback\"><pre>KNeighborsClassifier(metric=&#x27;euclidean&#x27;, n_neighbors=1001)</pre><b>In a Jupyter environment, please rerun this cell to show the HTML representation or trust the notebook. <br />On GitHub, the HTML representation is unable to render, please try loading this page with nbviewer.org.</b></div><div class=\"sk-container\" hidden><div class=\"sk-item\"><div class=\"sk-estimator sk-toggleable\"><input class=\"sk-toggleable__control sk-hidden--visually\" id=\"sk-estimator-id-1\" type=\"checkbox\" checked><label for=\"sk-estimator-id-1\" class=\"sk-toggleable__label sk-toggleable__label-arrow\">KNeighborsClassifier</label><div class=\"sk-toggleable__content\"><pre>KNeighborsClassifier(metric=&#x27;euclidean&#x27;, n_neighbors=1001)</pre></div></div></div></div></div>"
      ],
      "text/plain": [
       "KNeighborsClassifier(metric='euclidean', n_neighbors=1001)"
      ]
     },
     "execution_count": 8,
     "metadata": {},
     "output_type": "execute_result"
    }
   ],
   "source": [
    "# instantiate model\n",
    "knn = KNeighborsClassifier(n_neighbors = n , metric='euclidean', p=2)\n",
    "# fit model\n",
    "knn.fit(X_train,y_train)"
   ]
  },
  {
   "cell_type": "code",
   "execution_count": 9,
   "id": "2704d328",
   "metadata": {
    "scrolled": true
   },
   "outputs": [
    {
     "data": {
      "text/plain": [
       "array([1, 0, 0, ..., 1, 0, 0])"
      ]
     },
     "execution_count": 9,
     "metadata": {},
     "output_type": "execute_result"
    }
   ],
   "source": [
    "y_pred =  knn.predict(X_test)\n",
    "y_pred"
   ]
  },
  {
   "cell_type": "code",
   "execution_count": 10,
   "id": "3d459e3a",
   "metadata": {
    "scrolled": true
   },
   "outputs": [
    {
     "name": "stdout",
     "output_type": "stream",
     "text": [
      "[[98059 19134]\n",
      " [28974 53833]]\n",
      "0.6911679741163481\n",
      "0.75946\n"
     ]
    }
   ],
   "source": [
    "cm= confusion_matrix(y_test,y_pred)\n",
    "print(cm)\n",
    "print(f1_score(y_test,y_pred))\n",
    "print(accuracy_score(y_test,y_pred))"
   ]
  },
  {
   "cell_type": "markdown",
   "id": "10183587",
   "metadata": {},
   "source": [
    "## Dropping Columns Iteratively"
   ]
  },
  {
   "cell_type": "code",
   "execution_count": 11,
   "id": "2149eb87",
   "metadata": {
    "scrolled": true
   },
   "outputs": [
    {
     "name": "stdout",
     "output_type": "stream",
     "text": [
      "[[98058 19135]\n",
      " [28974 53833]]\n",
      "0.691163537152945\n",
      "0.759455\n",
      "[[93437 23756]\n",
      " [28429 54378]]\n",
      "0.6757507409547598\n",
      "0.739075\n",
      "[[98068 19125]\n",
      " [28950 53857]]\n",
      "0.6914095346911528\n",
      "0.759625\n",
      "[[104906  12287]\n",
      " [ 61397  21410]]\n",
      "0.36754102863420995\n",
      "0.63158\n",
      "[[98167 19026]\n",
      " [29069 53738]]\n",
      "0.6908485514652474\n",
      "0.759525\n",
      "[[98158 19035]\n",
      " [29147 53660]]\n",
      "0.6901518951524739\n",
      "0.75909\n"
     ]
    }
   ],
   "source": [
    "for i in range(6):\n",
    "    test = df[:1000000]\n",
    "    test = test.drop(test.columns[i], axis=1)\n",
    "    le = preprocessing.LabelEncoder()\n",
    "\n",
    "    X = test.iloc[:,:-1]\n",
    "    y = le.fit_transform(test.iloc[:,-1])\n",
    "    X_train, X_test, y_train, y_test = train_test_split(X, y, test_size=0.2, random_state=0)\n",
    "    n = int(math.sqrt(X.shape[0])) + 1 if (int(math.sqrt(X.shape[0])) % 2 == 0) else int(math.sqrt(X.shape[0]))\n",
    "    \n",
    "    # instantiate model\n",
    "    knn = KNeighborsClassifier(n_neighbors = n , metric='euclidean', p=2)\n",
    "    # fit model\n",
    "    knn.fit(X_train,y_train)\n",
    "    y_pred =  knn.predict(X_test)\n",
    "    cm= confusion_matrix(y_test,y_pred)\n",
    "    print(cm)\n",
    "    print(f1_score(y_test,y_pred))\n",
    "    print(accuracy_score(y_test,y_pred))"
   ]
  },
  {
   "cell_type": "markdown",
   "id": "fdb11c34",
   "metadata": {},
   "source": [
    "## KNN Iteration Result"
   ]
  },
  {
   "cell_type": "markdown",
   "id": "427e0a14",
   "metadata": {},
   "source": [
    "\n",
    "Removed components: 0 (peak_amplitude) | Accuracy score: 0.759455 | F1 score: 0.691163537152945\n",
    "Removed components: 1 (integral)       | Accuracy score: 0.739075 | F1 score: 0.6757507409547598\n",
    "Removed components: 2 (phase_angle)    | Accuracy score: 0.759625 | F1 score: 0.6914095346911528\n",
    "Removed components: 3 (cycle_number)   | Accuracy score: 0.63158  | F1 score: 0.36754102863420995\n",
    "Removed components: 4 (rise_time)      | Accuracy score: 0.759525 | F1 score: 0.6908485514652474\n",
    "Removed components: 5 (pulse_width)    | Accuracy score: 0.75909  | F1 score: 0.6901518951524739"
   ]
  },
  {
   "cell_type": "markdown",
   "id": "0b1bfe60",
   "metadata": {},
   "source": [
    "## Unsupervised KNN"
   ]
  },
  {
   "cell_type": "code",
   "execution_count": 12,
   "id": "6762c276",
   "metadata": {},
   "outputs": [
    {
     "data": {
      "text/html": [
       "<style>#sk-container-id-2 {color: black;background-color: white;}#sk-container-id-2 pre{padding: 0;}#sk-container-id-2 div.sk-toggleable {background-color: white;}#sk-container-id-2 label.sk-toggleable__label {cursor: pointer;display: block;width: 100%;margin-bottom: 0;padding: 0.3em;box-sizing: border-box;text-align: center;}#sk-container-id-2 label.sk-toggleable__label-arrow:before {content: \"▸\";float: left;margin-right: 0.25em;color: #696969;}#sk-container-id-2 label.sk-toggleable__label-arrow:hover:before {color: black;}#sk-container-id-2 div.sk-estimator:hover label.sk-toggleable__label-arrow:before {color: black;}#sk-container-id-2 div.sk-toggleable__content {max-height: 0;max-width: 0;overflow: hidden;text-align: left;background-color: #f0f8ff;}#sk-container-id-2 div.sk-toggleable__content pre {margin: 0.2em;color: black;border-radius: 0.25em;background-color: #f0f8ff;}#sk-container-id-2 input.sk-toggleable__control:checked~div.sk-toggleable__content {max-height: 200px;max-width: 100%;overflow: auto;}#sk-container-id-2 input.sk-toggleable__control:checked~label.sk-toggleable__label-arrow:before {content: \"▾\";}#sk-container-id-2 div.sk-estimator input.sk-toggleable__control:checked~label.sk-toggleable__label {background-color: #d4ebff;}#sk-container-id-2 div.sk-label input.sk-toggleable__control:checked~label.sk-toggleable__label {background-color: #d4ebff;}#sk-container-id-2 input.sk-hidden--visually {border: 0;clip: rect(1px 1px 1px 1px);clip: rect(1px, 1px, 1px, 1px);height: 1px;margin: -1px;overflow: hidden;padding: 0;position: absolute;width: 1px;}#sk-container-id-2 div.sk-estimator {font-family: monospace;background-color: #f0f8ff;border: 1px dotted black;border-radius: 0.25em;box-sizing: border-box;margin-bottom: 0.5em;}#sk-container-id-2 div.sk-estimator:hover {background-color: #d4ebff;}#sk-container-id-2 div.sk-parallel-item::after {content: \"\";width: 100%;border-bottom: 1px solid gray;flex-grow: 1;}#sk-container-id-2 div.sk-label:hover label.sk-toggleable__label {background-color: #d4ebff;}#sk-container-id-2 div.sk-serial::before {content: \"\";position: absolute;border-left: 1px solid gray;box-sizing: border-box;top: 0;bottom: 0;left: 50%;z-index: 0;}#sk-container-id-2 div.sk-serial {display: flex;flex-direction: column;align-items: center;background-color: white;padding-right: 0.2em;padding-left: 0.2em;position: relative;}#sk-container-id-2 div.sk-item {position: relative;z-index: 1;}#sk-container-id-2 div.sk-parallel {display: flex;align-items: stretch;justify-content: center;background-color: white;position: relative;}#sk-container-id-2 div.sk-item::before, #sk-container-id-2 div.sk-parallel-item::before {content: \"\";position: absolute;border-left: 1px solid gray;box-sizing: border-box;top: 0;bottom: 0;left: 50%;z-index: -1;}#sk-container-id-2 div.sk-parallel-item {display: flex;flex-direction: column;z-index: 1;position: relative;background-color: white;}#sk-container-id-2 div.sk-parallel-item:first-child::after {align-self: flex-end;width: 50%;}#sk-container-id-2 div.sk-parallel-item:last-child::after {align-self: flex-start;width: 50%;}#sk-container-id-2 div.sk-parallel-item:only-child::after {width: 0;}#sk-container-id-2 div.sk-dashed-wrapped {border: 1px dashed gray;margin: 0 0.4em 0.5em 0.4em;box-sizing: border-box;padding-bottom: 0.4em;background-color: white;}#sk-container-id-2 div.sk-label label {font-family: monospace;font-weight: bold;display: inline-block;line-height: 1.2em;}#sk-container-id-2 div.sk-label-container {text-align: center;}#sk-container-id-2 div.sk-container {/* jupyter's `normalize.less` sets `[hidden] { display: none; }` but bootstrap.min.css set `[hidden] { display: none !important; }` so we also need the `!important` here to be able to override the default hidden behavior on the sphinx rendered scikit-learn.org. See: https://github.com/scikit-learn/scikit-learn/issues/21755 */display: inline-block !important;position: relative;}#sk-container-id-2 div.sk-text-repr-fallback {display: none;}</style><div id=\"sk-container-id-2\" class=\"sk-top-container\"><div class=\"sk-text-repr-fallback\"><pre>NearestNeighbors(n_neighbors=1001)</pre><b>In a Jupyter environment, please rerun this cell to show the HTML representation or trust the notebook. <br />On GitHub, the HTML representation is unable to render, please try loading this page with nbviewer.org.</b></div><div class=\"sk-container\" hidden><div class=\"sk-item\"><div class=\"sk-estimator sk-toggleable\"><input class=\"sk-toggleable__control sk-hidden--visually\" id=\"sk-estimator-id-2\" type=\"checkbox\" checked><label for=\"sk-estimator-id-2\" class=\"sk-toggleable__label sk-toggleable__label-arrow\">NearestNeighbors</label><div class=\"sk-toggleable__content\"><pre>NearestNeighbors(n_neighbors=1001)</pre></div></div></div></div></div>"
      ],
      "text/plain": [
       "NearestNeighbors(n_neighbors=1001)"
      ]
     },
     "execution_count": 12,
     "metadata": {},
     "output_type": "execute_result"
    }
   ],
   "source": [
    "# create model\n",
    "nbrs = NearestNeighbors(n_neighbors = n)\n",
    "# fit model\n",
    "nbrs.fit(test.iloc[:, :-1])"
   ]
  },
  {
   "cell_type": "code",
   "execution_count": 13,
   "id": "71ccfdcb",
   "metadata": {},
   "outputs": [
    {
     "data": {
      "text/plain": [
       "[<matplotlib.lines.Line2D at 0x16ca9eb60>]"
      ]
     },
     "execution_count": 13,
     "metadata": {},
     "output_type": "execute_result"
    },
    {
     "data": {
      "image/png": "[encoded data removed]",
      "text/plain": [
       "<Figure size 1080x504 with 1 Axes>"
      ]
     },
     "metadata": {
      "needs_background": "light"
     },
     "output_type": "display_data"
    }
   ],
   "source": [
    "# distances and indexes of k-neaighbors from model outputs\n",
    "distances, indexes = nbrs.kneighbors(test.iloc[:, :-1])\n",
    "# plot\n",
    "plt.figure(figsize=(15, 7))\n",
    "plt.plot(distances.mean(axis =1))"
   ]
  },
  {
   "cell_type": "code",
   "execution_count": 14,
   "id": "0a812f9e",
   "metadata": {},
   "outputs": [
    {
     "data": {
      "text/plain": [
       "0          696.796921\n",
       "1          746.263373\n",
       "2          885.113060\n",
       "3          906.555404\n",
       "4          408.104922\n",
       "             ...     \n",
       "999995     444.996130\n",
       "999996    6300.181423\n",
       "999997     662.867126\n",
       "999998     359.126618\n",
       "999999    6011.064363\n",
       "Length: 1000000, dtype: float64"
      ]
     },
     "execution_count": 14,
     "metadata": {},
     "output_type": "execute_result"
    }
   ],
   "source": [
    "distances = pd.DataFrame(distances)\n",
    "distances_mean = distances.mean(axis =1)\n",
    "distances_mean"
   ]
  },
  {
   "cell_type": "code",
   "execution_count": 15,
   "id": "7e00ab59",
   "metadata": {},
   "outputs": [
    {
     "data": {
      "text/plain": [
       "count    1000000.000000\n",
       "mean         694.087630\n",
       "std          921.236007\n",
       "min          154.372475\n",
       "25%          333.631400\n",
       "50%          465.399644\n",
       "75%          727.526431\n",
       "max        54122.750934\n",
       "dtype: float64"
      ]
     },
     "execution_count": 15,
     "metadata": {},
     "output_type": "execute_result"
    }
   ],
   "source": [
    "distances_mean.describe()"
   ]
  },
  {
   "cell_type": "code",
   "execution_count": 16,
   "id": "41695456",
   "metadata": {},
   "outputs": [
    {
     "data": {
      "text/plain": [
       "(array([     9,     25,     31, ..., 999980, 999996, 999999]),)"
      ]
     },
     "execution_count": 16,
     "metadata": {},
     "output_type": "execute_result"
    }
   ],
   "source": [
    "threshold = 1000\n",
    "outlier_index = np.where(distances_mean > threshold)\n",
    "outlier_index"
   ]
  },
  {
   "cell_type": "code",
   "execution_count": 17,
   "id": "15905fce",
   "metadata": {},
   "outputs": [
    {
     "data": {
      "text/html": [
       "<div>\n",
       "<style scoped>\n",
       "    .dataframe tbody tr th:only-of-type {\n",
       "        vertical-align: middle;\n",
       "    }\n",
       "\n",
       "    .dataframe tbody tr th {\n",
       "        vertical-align: top;\n",
       "    }\n",
       "\n",
       "    .dataframe thead th {\n",
       "        text-align: right;\n",
       "    }\n",
       "</style>\n",
       "<table border=\"1\" class=\"dataframe\">\n",
       "  <thead>\n",
       "    <tr style=\"text-align: right;\">\n",
       "      <th></th>\n",
       "      <th>peak_amplitude</th>\n",
       "      <th>integral</th>\n",
       "      <th>phase_angle</th>\n",
       "      <th>cycle_number</th>\n",
       "      <th>rise_time</th>\n",
       "      <th>type</th>\n",
       "    </tr>\n",
       "  </thead>\n",
       "  <tbody>\n",
       "    <tr>\n",
       "      <th>9</th>\n",
       "      <td>7.259907</td>\n",
       "      <td>18002</td>\n",
       "      <td>271</td>\n",
       "      <td>62975</td>\n",
       "      <td>69</td>\n",
       "      <td>pos</td>\n",
       "    </tr>\n",
       "    <tr>\n",
       "      <th>25</th>\n",
       "      <td>16.035548</td>\n",
       "      <td>22326</td>\n",
       "      <td>199</td>\n",
       "      <td>17506</td>\n",
       "      <td>3</td>\n",
       "      <td>neg</td>\n",
       "    </tr>\n",
       "    <tr>\n",
       "      <th>31</th>\n",
       "      <td>28.930653</td>\n",
       "      <td>81582</td>\n",
       "      <td>9</td>\n",
       "      <td>24333</td>\n",
       "      <td>0</td>\n",
       "      <td>pos</td>\n",
       "    </tr>\n",
       "    <tr>\n",
       "      <th>34</th>\n",
       "      <td>17.395105</td>\n",
       "      <td>-25438</td>\n",
       "      <td>42</td>\n",
       "      <td>40729</td>\n",
       "      <td>0</td>\n",
       "      <td>neg</td>\n",
       "    </tr>\n",
       "    <tr>\n",
       "      <th>36</th>\n",
       "      <td>27.180653</td>\n",
       "      <td>35765</td>\n",
       "      <td>8</td>\n",
       "      <td>36590</td>\n",
       "      <td>0</td>\n",
       "      <td>neg</td>\n",
       "    </tr>\n",
       "    <tr>\n",
       "      <th>...</th>\n",
       "      <td>...</td>\n",
       "      <td>...</td>\n",
       "      <td>...</td>\n",
       "      <td>...</td>\n",
       "      <td>...</td>\n",
       "      <td>...</td>\n",
       "    </tr>\n",
       "    <tr>\n",
       "      <th>999965</th>\n",
       "      <td>9.402681</td>\n",
       "      <td>10085</td>\n",
       "      <td>127</td>\n",
       "      <td>42170</td>\n",
       "      <td>2</td>\n",
       "      <td>neg</td>\n",
       "    </tr>\n",
       "    <tr>\n",
       "      <th>999968</th>\n",
       "      <td>20.132867</td>\n",
       "      <td>-12749</td>\n",
       "      <td>20</td>\n",
       "      <td>15697</td>\n",
       "      <td>388</td>\n",
       "      <td>neg</td>\n",
       "    </tr>\n",
       "    <tr>\n",
       "      <th>999980</th>\n",
       "      <td>7.638695</td>\n",
       "      <td>-10607</td>\n",
       "      <td>281</td>\n",
       "      <td>1405</td>\n",
       "      <td>0</td>\n",
       "      <td>neg</td>\n",
       "    </tr>\n",
       "    <tr>\n",
       "      <th>999996</th>\n",
       "      <td>17.898019</td>\n",
       "      <td>-71704</td>\n",
       "      <td>332</td>\n",
       "      <td>32752</td>\n",
       "      <td>0</td>\n",
       "      <td>neg</td>\n",
       "    </tr>\n",
       "    <tr>\n",
       "      <th>999999</th>\n",
       "      <td>13.877622</td>\n",
       "      <td>-28313</td>\n",
       "      <td>161</td>\n",
       "      <td>6175</td>\n",
       "      <td>0</td>\n",
       "      <td>neg</td>\n",
       "    </tr>\n",
       "  </tbody>\n",
       "</table>\n",
       "<p>143881 rows × 6 columns</p>\n",
       "</div>"
      ],
      "text/plain": [
       "        peak_amplitude  integral  phase_angle  cycle_number  rise_time type\n",
       "9             7.259907     18002          271         62975         69  pos\n",
       "25           16.035548     22326          199         17506          3  neg\n",
       "31           28.930653     81582            9         24333          0  pos\n",
       "34           17.395105    -25438           42         40729          0  neg\n",
       "36           27.180653     35765            8         36590          0  neg\n",
       "...                ...       ...          ...           ...        ...  ...\n",
       "999965        9.402681     10085          127         42170          2  neg\n",
       "999968       20.132867    -12749           20         15697        388  neg\n",
       "999980        7.638695    -10607          281          1405          0  neg\n",
       "999996       17.898019    -71704          332         32752          0  neg\n",
       "999999       13.877622    -28313          161          6175          0  neg\n",
       "\n",
       "[143881 rows x 6 columns]"
      ]
     },
     "execution_count": 17,
     "metadata": {},
     "output_type": "execute_result"
    }
   ],
   "source": [
    "outlier_values = test.iloc[outlier_index]\n",
    "outlier_values"
   ]
  }
 ],
 "metadata": {
  "kernelspec": {
   "display_name": "Python 3 (ipykernel)",
   "language": "python",
   "name": "python3"
  },
  "language_info": {
   "codemirror_mode": {
    "name": "ipython",
    "version": 3
   },
   "file_extension": ".py",
   "mimetype": "text/x-python",
   "name": "python",
   "nbconvert_exporter": "python",
   "pygments_lexer": "ipython3",
   "version": "3.10.6"
  }
 },
 "nbformat": 4,
 "nbformat_minor": 5
}
