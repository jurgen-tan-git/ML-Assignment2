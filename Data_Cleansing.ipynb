{
 "cells": [
  {
   "cell_type": "code",
   "execution_count": 1,
   "id": "7b9bc17d",
   "metadata": {},
   "outputs": [],
   "source": [
    "import matplotlib.pyplot as plt\n",
    "import pandas as pd\n",
    "import json\n",
    "import os\n",
    "import hdbscan"
   ]
  },
  {
   "cell_type": "code",
   "execution_count": 2,
   "id": "a1d0ea07",
   "metadata": {},
   "outputs": [],
   "source": [
    "def load_waveform(filepath):\n",
    "    with open(filepath) as dataFile:\n",
    "        data = dataFile.read()\n",
    "        obj = data[data.find('{') : data.rfind('}')+1]\n",
    "        jsonObj = json.loads(obj)\n",
    "        \n",
    "        if jsonObj['data']:\n",
    "            waveform_data = pd.DataFrame(jsonObj['data'])    \n",
    "            return waveform_data\n",
    "    return []"
   ]
  },
  {
   "cell_type": "code",
   "execution_count": 3,
   "id": "df398ffa",
   "metadata": {},
   "outputs": [],
   "source": [
    "file_dir = os.getcwd() + \"/Assignment02/\"\n",
    "file_neg = os.listdir(file_dir + \"negative\")\n",
    "file_pos = os.listdir(file_dir + \"positive\")\n",
    "file_unclassified = os.listdir(file_dir + \"unclassified\")\n"
   ]
  },
  {
   "cell_type": "code",
   "execution_count": 7,
   "id": "74a16b8c",
   "metadata": {},
   "outputs": [],
   "source": [
    "def iterhdbscan(df):\n",
    "    count = 0\n",
    "    clusterer = hdbscan.HDBSCAN(gen_min_span_tree=True)\n",
    "    clusterer.fit(df)\n",
    "    for i in range(len(clusterer.probabilities_)):\n",
    "        if clusterer.probabilities_[i] == 0:\n",
    "            count +=1\n",
    "            df.drop(i, inplace=True)\n",
    "    return count"
   ]
  },
  {
   "cell_type": "markdown",
   "id": "5b1bb5c0",
   "metadata": {},
   "source": [
    "## Negative Data "
   ]
  },
  {
   "cell_type": "code",
   "execution_count": 18,
   "id": "89b0f0a7",
   "metadata": {},
   "outputs": [],
   "source": [
    "## Negative Data #Dropping of white noise found through the iteration of all the negative files\n",
    "count = 0\n",
    "total = 0 \n",
    "for i in range(len(file_neg)):\n",
    "    df_neg = load_waveform(file_dir + \"negative/\" + file_neg[i])\n",
    "    total += len(df_neg)\n",
    "    noise= iterhdbscan(df_neg)\n",
    "    df_neg.to_csv(os.getcwd() + \"/Cleansed/negative/\" + file_neg[i][:-3] + \".csv\")\n",
    "#     count += noise\n",
    "# print(count)\n",
    "#     print(str(noise) + \"  \" + file_neg[i])\n",
    "# print(str(count) + \"/\" + str(total))"
   ]
  },
  {
   "cell_type": "code",
   "execution_count": 17,
   "id": "5b56b333",
   "metadata": {},
   "outputs": [
    {
     "name": "stdout",
     "output_type": "stream",
     "text": [
      "/Users/jurgentan/Desktop/School/Machine Learning/Assignment 2/Cleansed/negative/1029777.csv\n"
     ]
    }
   ],
   "source": [
    "# file_neg[i][:-3]\n",
    "print(os.getcwd() + \"/Cleansed/negative/\" + file_neg[i][:-3] + \".csv\")"
   ]
  },
  {
   "cell_type": "markdown",
   "id": "01963641",
   "metadata": {},
   "source": [
    "## Positive Data "
   ]
  },
  {
   "cell_type": "code",
   "execution_count": 22,
   "id": "1fab0693",
   "metadata": {},
   "outputs": [
    {
     "name": "stdout",
     "output_type": "stream",
     "text": [
      "11692\n"
     ]
    }
   ],
   "source": [
    "#Dropping of white noise found through the iteration of all the negative files\n",
    "count = 0\n",
    "total = 0 \n",
    "for i in range(len(file_pos)):\n",
    "    df_pos = load_waveform(file_dir + \"positive/\" + file_pos[i])\n",
    "#     print(len(df_neg))\n",
    "    total += len(df_pos)\n",
    "    noise= iterhdbscan(df_pos)\n",
    "    df_pos.to_csv(os.getcwd() + \"/Cleansed/positive/\" + file_pos[i][:-3] + \".csv\")\n",
    "#     iterhdbscan(df_neg)\n",
    "#     print(len(df_neg))\n",
    "#     print(\"__________\")\n",
    "    \n",
    "    \n",
    "    count += noise\n",
    "print(count)\n",
    "#     print(str(noise) + \"  \" + file_neg[i])\n",
    "# print(str(count) + \"/\" + str(total))## Negative Data "
   ]
  },
  {
   "cell_type": "markdown",
   "id": "c1bc5cdc",
   "metadata": {},
   "source": [
    "## Unclassified Data "
   ]
  },
  {
   "cell_type": "code",
   "execution_count": 23,
   "id": "0c800fd5",
   "metadata": {},
   "outputs": [
    {
     "name": "stdout",
     "output_type": "stream",
     "text": [
      "8545\n"
     ]
    }
   ],
   "source": [
    "#Dropping of white noise found through the iteration of all the negative files\n",
    "count = 0\n",
    "total = 0 \n",
    "for i in range(len(file_unclassified)):\n",
    "    df_unclassified = load_waveform(file_dir + \"unclassified/\" + file_unclassified[i])\n",
    "#     print(len(df_neg))\n",
    "    total += len(df_unclassified)\n",
    "    noise= iterhdbscan(df_unclassified)\n",
    "    df_pos.to_csv(os.getcwd() + \"/Cleansed/unclassified/\" + file_unclassified[i][:-3] + \".csv\")\n",
    "#     iterhdbscan(df_neg)\n",
    "#     print(len(df_neg))\n",
    "#     print(\"__________\")\n",
    "    \n",
    "    \n",
    "    count += noise\n",
    "print(count)\n",
    "#     print(str(noise) + \"  \" + file_neg[i])\n",
    "# print(str(count) + \"/\" + str(total))## Negative Data "
   ]
  }
 ],
 "metadata": {
  "kernelspec": {
   "display_name": "Python 3 (ipykernel)",
   "language": "python",
   "name": "python3"
  },
  "language_info": {
   "codemirror_mode": {
    "name": "ipython",
    "version": 3
   },
   "file_extension": ".py",
   "mimetype": "text/x-python",
   "name": "python",
   "nbconvert_exporter": "python",
   "pygments_lexer": "ipython3",
   "version": "3.9.13"
  }
 },
 "nbformat": 4,
 "nbformat_minor": 5
}
