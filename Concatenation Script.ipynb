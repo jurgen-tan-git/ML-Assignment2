{
 "cells": [
  {
   "cell_type": "code",
   "execution_count": 4,
   "id": "33c4755e",
   "metadata": {},
   "outputs": [],
   "source": [
    "import os\n",
    "import pandas as pd"
   ]
  },
  {
   "cell_type": "code",
   "execution_count": 49,
   "id": "415b5c6c",
   "metadata": {},
   "outputs": [],
   "source": [
    "file_dir = os.getcwd() + \"/Cleansed/\"\n",
    "file_neg = os.listdir(file_dir + \"negative\")\n",
    "file_pos = os.listdir(file_dir + \"positive\")"
   ]
  },
  {
   "cell_type": "code",
   "execution_count": 54,
   "id": "59dff608",
   "metadata": {},
   "outputs": [],
   "source": [
    "df_neg = pd.concat((pd.read_csv(file_dir + \"/negative/\" + filename, index_col=0)) for filename in file_neg).reset_index(drop=True)\n",
    "df_neg['type'] = 'neg'"
   ]
  },
  {
   "cell_type": "code",
   "execution_count": 55,
   "id": "0ce3a8b9",
   "metadata": {},
   "outputs": [],
   "source": [
    "df_pos = pd.concat((pd.read_csv(file_dir + \"/positive/\" + filename, index_col=0)) for filename in file_pos).reset_index(drop=True)\n",
    "df_pos['type'] = 'pos'"
   ]
  },
  {
   "cell_type": "code",
   "execution_count": 60,
   "id": "f42299c8",
   "metadata": {},
   "outputs": [],
   "source": [
    "df_all = pd.concat([df_pos, df_neg]).reset_index(drop=True)"
   ]
  },
  {
   "cell_type": "code",
   "execution_count": 66,
   "id": "21b7e920",
   "metadata": {
    "scrolled": true
   },
   "outputs": [],
   "source": [
    "df_all = df_all.sample(frac=1).reset_index(drop=True)"
   ]
  },
  {
   "cell_type": "code",
   "execution_count": 68,
   "id": "21a2b18c",
   "metadata": {},
   "outputs": [],
   "source": [
    "df_all.to_csv(os.getcwd() + \"/Cleansed/\" + \"df_all.csv\")"
   ]
  }
 ],
 "metadata": {
  "kernelspec": {
   "display_name": "Python 3 (ipykernel)",
   "language": "python",
   "name": "python3"
  },
  "language_info": {
   "codemirror_mode": {
    "name": "ipython",
    "version": 3
   },
   "file_extension": ".py",
   "mimetype": "text/x-python",
   "name": "python",
   "nbconvert_exporter": "python",
   "pygments_lexer": "ipython3",
   "version": "3.9.0"
  }
 },
 "nbformat": 4,
 "nbformat_minor": 5
}
